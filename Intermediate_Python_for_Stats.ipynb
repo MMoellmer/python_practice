{
  "cells": [
    {
      "cell_type": "markdown",
      "metadata": {
        "id": "view-in-github",
        "colab_type": "text"
      },
      "source": [
        "<a href=\"https://colab.research.google.com/github/MMoellmer/python_practice/blob/main/Intermediate_Python_for_Stats.ipynb\" target=\"_parent\"><img src=\"https://colab.research.google.com/assets/colab-badge.svg\" alt=\"Open In Colab\"/></a>"
      ]
    },
    {
      "cell_type": "markdown",
      "metadata": {
        "id": "StLUXwq9VM6-"
      },
      "source": [
        "# While loops"
      ]
    },
    {
      "cell_type": "code",
      "execution_count": null,
      "metadata": {
        "colab": {
          "base_uri": "https://localhost:8080/"
        },
        "collapsed": true,
        "id": "Y8MSTkKRVAQR",
        "outputId": "c6211159-72d2-4565-b2e4-7d61e5d9b806"
      },
      "outputs": [
        {
          "name": "stdout",
          "output_type": "stream",
          "text": [
            "People in the car: 0\n",
            "People in the car: 1\n",
            "People in the car: 2\n",
            "People in the car: 3\n",
            "People in the car: 4\n",
            "The car is full\n"
          ]
        }
      ],
      "source": [
        "# Uber driver\n",
        "people_in_car = 0\n",
        "\n",
        "while people_in_car <5:\n",
        "  print(f\"People in the car: {people_in_car}\")\n",
        "  people_in_car += 1\n",
        "\n",
        "print(\"The car is full\")"
      ]
    },
    {
      "cell_type": "code",
      "execution_count": null,
      "metadata": {
        "colab": {
          "base_uri": "https://localhost:8080/"
        },
        "id": "N8pdZxlGbwSw",
        "outputId": "6d13e864-bb35-420a-9d8e-99fadc6aab78"
      },
      "outputs": [
        {
          "name": "stdout",
          "output_type": "stream",
          "text": [
            "noneven\n",
            "2\n",
            "noneven\n",
            "4\n",
            "noneven\n",
            "6\n",
            "noneven\n",
            "8\n",
            "noneven\n",
            "10\n",
            "noneven\n",
            "12\n",
            "noneven\n",
            "14\n",
            "noneven\n",
            "16\n",
            "noneven\n",
            "18\n",
            "noneven\n",
            "20\n",
            "noneven\n"
          ]
        }
      ],
      "source": [
        "# Print the even numbers until 20\n",
        "n =20\n",
        "i = 0\n",
        "while i <= 20:\n",
        "  i += 1\n",
        "  if i % 2 == 0:\n",
        "    print(i)\n",
        "  else:\n",
        "    print(\"noneven\")"
      ]
    },
    {
      "cell_type": "markdown",
      "metadata": {
        "id": "2RCpCOjycVUv"
      },
      "source": [
        "# 10 second countdown timer"
      ]
    },
    {
      "cell_type": "code",
      "execution_count": null,
      "metadata": {
        "colab": {
          "base_uri": "https://localhost:8080/"
        },
        "id": "zeMIB-YwcYki",
        "outputId": "b5baba41-5bee-4aae-8606-4dd9a90eeaba"
      },
      "outputs": [
        {
          "name": "stdout",
          "output_type": "stream",
          "text": [
            "10\n",
            "9\n",
            "8\n",
            "7\n",
            "6\n",
            "5\n",
            "4\n",
            "3\n",
            "2\n",
            "1\n",
            "Blastoff!\n"
          ]
        }
      ],
      "source": [
        "# Create a countdown timer from 10 - 0\n",
        "n = 10\n",
        "import time\n",
        "\n",
        "while n >= 0:\n",
        "  if n == 0:\n",
        "    print(\"Blastoff!\")\n",
        "  else:\n",
        "    print(f\"{n}\")\n",
        "\n",
        "  time.sleep(.5)\n",
        "  n -= 1\n",
        "\n",
        "\n"
      ]
    },
    {
      "cell_type": "markdown",
      "metadata": {
        "id": "kP-YwuiKhpkc"
      },
      "source": [
        "# Lists"
      ]
    },
    {
      "cell_type": "code",
      "execution_count": null,
      "metadata": {
        "colab": {
          "base_uri": "https://localhost:8080/"
        },
        "id": "npPPnkgWhrr5",
        "outputId": "5c6aa292-fd9e-4a0f-936f-316b687626c8"
      },
      "outputs": [
        {
          "name": "stdout",
          "output_type": "stream",
          "text": [
            "1\n",
            "3.4\n",
            "[2, 3, 4]\n",
            "[100, 2, 3, 4, 5]\n",
            "[100, 2, 3, 4, 5, 6]\n",
            "[100, 2, 3, 4, 5, 6, 10, 23, 43]\n",
            "[2, 3, 4, 5, 6, 10, 23, 43]\n",
            "[2, 3, 4, 6, 10, 23, 43]\n",
            "6\n"
          ]
        }
      ],
      "source": [
        "from types import MethodDescriptorType\n",
        "# Simple list\n",
        "numbers = [1,2,3,4,5]\n",
        "\n",
        "mixed_list = [1, \"Hello\", 3.4]\n",
        "\n",
        "#Accessing the list, you can get specific items using thier index\n",
        "#Start with index 0 for first item\n",
        "print(numbers[0])\n",
        "print(mixed_list[2])\n",
        "\n",
        "#Slicing\n",
        "#Grabbing a portion of the list. End of the list is not included.\n",
        "print(numbers[1:4])\n",
        "\n",
        "#Modifying\n",
        "#Lists are mutable -> you can change them\n",
        "#Assigning a new value via their index\n",
        "numbers[0] = 100\n",
        "print(numbers)\n",
        "\n",
        "#Adding items to the list\n",
        "#append method\n",
        "numbers.append(6)\n",
        "print(numbers)\n",
        "\n",
        "#Concatenate with the +\n",
        "numbers = numbers + [10, 23, 43]\n",
        "print(numbers)\n",
        "\n",
        "#Remove Items\n",
        "#del method\n",
        "del numbers[0]\n",
        "print(numbers)\n",
        "\n",
        "#Remove a specific item\n",
        "numbers.remove(5)\n",
        "print(numbers)\n",
        "\n",
        "#Using the pop\n",
        "last_numbers = numbers.pop(-4)\n",
        "print(last_numbers)\n",
        "\n"
      ]
    },
    {
      "cell_type": "markdown",
      "metadata": {
        "id": "QFd7RWq3lHtB"
      },
      "source": [
        "# Monthly report of expenses"
      ]
    },
    {
      "cell_type": "code",
      "execution_count": null,
      "metadata": {
        "colab": {
          "base_uri": "https://localhost:8080/"
        },
        "id": "6jYfjiWilLL0",
        "outputId": "3508ff8c-1943-41b5-f224-d55e69862c8a"
      },
      "outputs": [
        {
          "name": "stdout",
          "output_type": "stream",
          "text": [
            "your combined expenses are: 8320\n",
            "your average monthly expenses are: 1188.5714285714287\n"
          ]
        }
      ],
      "source": [
        "#compute total expenses for the month\n",
        "#compute the average spending for the month\n",
        "\n",
        "# Expense report\n",
        "monthly_expenses = [1200, 1350, 1050, 1450, 1150, 900, 1220]\n",
        "\n",
        "# My first attempt\n",
        "Total_expenses = sum(monthly_expenses)\n",
        "print(f\"your combined expenses are: {Total_expenses}\")\n",
        "\n",
        "average_expenses = Total_expenses / len(monthly_expenses)\n",
        "print(f\"your average monthly expenses are: {average_expenses}\")\n",
        "\n"
      ]
    },
    {
      "cell_type": "markdown",
      "metadata": {
        "id": "Qn0vlKyJ3ThN"
      },
      "source": [
        "# Print the first ten Fibonacci numbers"
      ]
    },
    {
      "cell_type": "code",
      "execution_count": null,
      "metadata": {
        "colab": {
          "base_uri": "https://localhost:8080/"
        },
        "id": "_QfcBE563XK2",
        "outputId": "6ef34b04-4f1d-4a62-9e32-13577730acaf"
      },
      "outputs": [
        {
          "output_type": "stream",
          "name": "stdout",
          "text": [
            "[1]\n",
            "[1, 1]\n",
            "[1, 1, 2]\n",
            "[1, 1, 2, 3]\n",
            "[1, 1, 2, 3, 5]\n",
            "[1, 1, 2, 3, 5, 8]\n",
            "[1, 1, 2, 3, 5, 8, 13]\n",
            "[1, 1, 2, 3, 5, 8, 13, 21]\n",
            "[1, 1, 2, 3, 5, 8, 13, 21, 34]\n",
            "[1, 1, 2, 3, 5, 8, 13, 21, 34, 55]\n"
          ]
        }
      ],
      "source": [
        "x = 1\n",
        "y = 1\n",
        "fibonacci = []\n",
        "\n",
        "while len(fibonacci) < 10:\n",
        "  fibonacci.append(x)\n",
        "  z = x + y\n",
        "  x = y\n",
        "  y = z\n",
        "  print(fibonacci)"
      ]
    },
    {
      "cell_type": "markdown",
      "source": [
        "# Don't rely on google to auto save.  I just lost half my work\n",
        "\n",
        "\n",
        "---\n",
        "\n",
        "\n",
        "# Here are the exercises that were lost:\n",
        "\n",
        "\n",
        "---\n",
        "\n",
        "\n",
        "Randomization, movie picker, read my mind, dictionaries, magical pet sounds,\n",
        "budget mastermind, for loops, sum of numbers, counting the number of\n",
        "characters, treasure hunter\n"
      ],
      "metadata": {
        "id": "Ub4Rlu3DuF7U"
      }
    },
    {
      "cell_type": "markdown",
      "source": [
        "# Randomization"
      ],
      "metadata": {
        "id": "9bZejssoKG_V"
      }
    },
    {
      "cell_type": "code",
      "source": [
        "import random\n",
        "\n",
        "# Generate a random float between 0 and 1\n",
        "random_float = random.random()\n",
        "print(random_float)"
      ],
      "metadata": {
        "id": "PsSy8yvPu0aF",
        "colab": {
          "base_uri": "https://localhost:8080/"
        },
        "outputId": "197355c3-283f-4d26-b51b-f4aa4d9a61ee"
      },
      "execution_count": null,
      "outputs": [
        {
          "output_type": "stream",
          "name": "stdout",
          "text": [
            "0.5373523411253065\n"
          ]
        }
      ]
    },
    {
      "cell_type": "code",
      "source": [
        "# Generate a random integer\n",
        "random.randint(1, 10)"
      ],
      "metadata": {
        "colab": {
          "base_uri": "https://localhost:8080/"
        },
        "id": "69dJ7WM9KYd9",
        "outputId": "ec589759-b904-4e08-cd16-465b95f98939"
      },
      "execution_count": null,
      "outputs": [
        {
          "output_type": "execute_result",
          "data": {
            "text/plain": [
              "4"
            ]
          },
          "metadata": {},
          "execution_count": 7
        }
      ]
    },
    {
      "cell_type": "code",
      "source": [
        "# Generate a random float within a range\n",
        "random.uniform(1,5)"
      ],
      "metadata": {
        "colab": {
          "base_uri": "https://localhost:8080/"
        },
        "id": "hzkeRTg_KffD",
        "outputId": "ef3bf833-4745-403d-c588-8c4e07beac76"
      },
      "execution_count": null,
      "outputs": [
        {
          "output_type": "execute_result",
          "data": {
            "text/plain": [
              "1.9708954808305101"
            ]
          },
          "metadata": {},
          "execution_count": 13
        }
      ]
    },
    {
      "cell_type": "code",
      "source": [
        "# Choose a random element from a list\n",
        "my_list = ['apple', 'banana', 'cherry', 'orange']\n",
        "random.choice(my_list)"
      ],
      "metadata": {
        "colab": {
          "base_uri": "https://localhost:8080/",
          "height": 35
        },
        "id": "5TWfOuEWKkjl",
        "outputId": "964651fd-9949-461b-90e7-15c03e57cae6"
      },
      "execution_count": null,
      "outputs": [
        {
          "output_type": "execute_result",
          "data": {
            "text/plain": [
              "'orange'"
            ],
            "application/vnd.google.colaboratory.intrinsic+json": {
              "type": "string"
            }
          },
          "metadata": {},
          "execution_count": 15
        }
      ]
    },
    {
      "cell_type": "code",
      "source": [
        "# Shuffle a list\n",
        "my_numbers = [1,2,3,4,5]\n",
        "random.shuffle(my_numbers)\n",
        "my_numbers"
      ],
      "metadata": {
        "colab": {
          "base_uri": "https://localhost:8080/"
        },
        "id": "vgo5sBmXKv-I",
        "outputId": "b49fa9a5-9215-4e98-f9b3-8f15faf785c9"
      },
      "execution_count": null,
      "outputs": [
        {
          "output_type": "execute_result",
          "data": {
            "text/plain": [
              "[2, 3, 5, 1, 4]"
            ]
          },
          "metadata": {},
          "execution_count": 21
        }
      ]
    },
    {
      "cell_type": "code",
      "source": [
        "# Sample random elements from the list\n",
        "random.sample(my_numbers, 3)"
      ],
      "metadata": {
        "colab": {
          "base_uri": "https://localhost:8080/"
        },
        "id": "SnBeXE99K8KV",
        "outputId": "83761290-3a54-40f5-e22e-4400a6e349d1"
      },
      "execution_count": null,
      "outputs": [
        {
          "output_type": "execute_result",
          "data": {
            "text/plain": [
              "[5, 1, 3]"
            ]
          },
          "metadata": {},
          "execution_count": 22
        }
      ]
    },
    {
      "cell_type": "code",
      "source": [
        "# Random Movie Picker:\n",
        "# create a list of your faorite movies and write a program that randomley picks one until theyve all been picked\n",
        "\n",
        "\n",
        "remaining_movies = ['The Matrix', 'Inception', 'The Dark knight', 'avengers: endgame', 'Interstellar']\n",
        "\n",
        "while remaining_movies:\n",
        "  chosen_movie = random.choice(remaining_movies)\n",
        "  print(f\"you will watch {chosen_movie}\")\n",
        "  remaining_movies.remove(chosen_movie)"
      ],
      "metadata": {
        "colab": {
          "base_uri": "https://localhost:8080/"
        },
        "id": "UgHs2-l5LB8E",
        "outputId": "4f93a30c-382e-4e41-97df-20352ff6f743"
      },
      "execution_count": null,
      "outputs": [
        {
          "output_type": "stream",
          "name": "stdout",
          "text": [
            "you will watch Inception\n",
            "you will watch The Dark knight\n",
            "you will watch Interstellar\n",
            "you will watch The Matrix\n",
            "you will watch avengers: endgame\n"
          ]
        }
      ]
    },
    {
      "cell_type": "code",
      "source": [
        "# Read my mind challenge\n",
        "target_number = random.randint(1,100)\n",
        "attempts = 5\n",
        "user_guess = None\n",
        "\n",
        "while (user_guess != target_number) and (attempts > 0):\n",
        "  user_guess = int(input(\"Guess a number between 1 and 100: \"))\n",
        "  if user_guess < target_number:\n",
        "    print(\"Higher\")\n",
        "  elif user_guess > target_number:\n",
        "    print(\"lower\")\n",
        "  else:\n",
        "    None\n",
        "\n",
        "  attempts -=1\n",
        "\n",
        "if user_guess == target_number:\n",
        "    print(\"Congrats you win\")\n",
        "else:\n",
        "    print(\"you suck loser\")\n",
        "\n"
      ],
      "metadata": {
        "colab": {
          "base_uri": "https://localhost:8080/"
        },
        "id": "7I-CDyakLr37",
        "outputId": "20d86d41-7096-438f-a2db-c94d9fbc1c59"
      },
      "execution_count": null,
      "outputs": [
        {
          "output_type": "stream",
          "name": "stdout",
          "text": [
            "Guess a number between 1 and 100: 30\n",
            "Higher\n",
            "Guess a number between 1 and 100: 80\n",
            "lower\n",
            "Guess a number between 1 and 100: 50\n",
            "Higher\n",
            "Guess a number between 1 and 100: 70\n",
            "lower\n",
            "Guess a number between 1 and 100: 60\n",
            "Higher\n",
            "you suck loser\n"
          ]
        }
      ]
    },
    {
      "cell_type": "markdown",
      "source": [
        "# Dictionaries"
      ],
      "metadata": {
        "id": "PdPo2_9KM504"
      }
    },
    {
      "cell_type": "code",
      "source": [
        "# Creating a dictionary\n",
        "my_spellbook = {'fireball': 3, 'teleport': 5, 'heal': 2}\n",
        "my_spellbook.items()"
      ],
      "metadata": {
        "colab": {
          "base_uri": "https://localhost:8080/"
        },
        "id": "07YlmCN3M9RU",
        "outputId": "b595586c-8f25-4988-b9bb-6616fe0374e9"
      },
      "execution_count": null,
      "outputs": [
        {
          "output_type": "execute_result",
          "data": {
            "text/plain": [
              "dict_items([('fireball', 3), ('teleport', 5), ('heal', 2)])"
            ]
          },
          "metadata": {},
          "execution_count": 3
        }
      ]
    },
    {
      "cell_type": "code",
      "source": [
        "# Better way to make a dictionary\n",
        "my_spellbook = dict(fireball = 3, teleport = 5, heal = 2)\n",
        "my_spellbook.items()"
      ],
      "metadata": {
        "colab": {
          "base_uri": "https://localhost:8080/"
        },
        "id": "5kW3vBfLNKOu",
        "outputId": "ccd840ac-c907-4115-c519-d7b201409985"
      },
      "execution_count": null,
      "outputs": [
        {
          "output_type": "execute_result",
          "data": {
            "text/plain": [
              "dict_items([('fireball', 3), ('teleport', 5), ('heal', 2)])"
            ]
          },
          "metadata": {},
          "execution_count": 29
        }
      ]
    },
    {
      "cell_type": "code",
      "source": [
        "# Access the keys\n",
        "my_spellbook.keys()"
      ],
      "metadata": {
        "colab": {
          "base_uri": "https://localhost:8080/"
        },
        "id": "rDrBaMe2NSqt",
        "outputId": "59cee31e-666f-47ec-8258-d2eb6aee690b"
      },
      "execution_count": null,
      "outputs": [
        {
          "output_type": "execute_result",
          "data": {
            "text/plain": [
              "dict_keys(['fireball', 'teleport', 'heal'])"
            ]
          },
          "metadata": {},
          "execution_count": 30
        }
      ]
    },
    {
      "cell_type": "code",
      "source": [
        "# Acces the values\n",
        "my_spellbook.values()"
      ],
      "metadata": {
        "colab": {
          "base_uri": "https://localhost:8080/"
        },
        "id": "0xL_aL2eNWuq",
        "outputId": "704734da-3efe-486d-f59a-bcca0c1acb62"
      },
      "execution_count": null,
      "outputs": [
        {
          "output_type": "execute_result",
          "data": {
            "text/plain": [
              "dict_values([3, 5, 2])"
            ]
          },
          "metadata": {},
          "execution_count": 31
        }
      ]
    },
    {
      "cell_type": "code",
      "source": [
        "# Adding a key-value pair\n",
        "my_spellbook['lightning'] = 4\n",
        "my_spellbook"
      ],
      "metadata": {
        "colab": {
          "base_uri": "https://localhost:8080/"
        },
        "id": "-0s37em8NZ2O",
        "outputId": "f3b1f768-e0f4-47d4-b08d-39a1a3a4b092"
      },
      "execution_count": null,
      "outputs": [
        {
          "output_type": "execute_result",
          "data": {
            "text/plain": [
              "{'fireball': 3, 'teleport': 5, 'heal': 2, 'lightning': 4}"
            ]
          },
          "metadata": {},
          "execution_count": 32
        }
      ]
    },
    {
      "cell_type": "code",
      "source": [
        "# Update an existing key-value pair\n",
        "my_spellbook[\"heal\"] = 3\n",
        "my_spellbook"
      ],
      "metadata": {
        "colab": {
          "base_uri": "https://localhost:8080/"
        },
        "id": "oqgnAbZqNg89",
        "outputId": "7b8bd743-5dc5-4645-e4c3-f256d0b7df1d"
      },
      "execution_count": null,
      "outputs": [
        {
          "output_type": "execute_result",
          "data": {
            "text/plain": [
              "{'fireball': 3, 'teleport': 5, 'heal': 3, 'lightning': 4}"
            ]
          },
          "metadata": {},
          "execution_count": 33
        }
      ]
    },
    {
      "cell_type": "code",
      "source": [
        "# Delete a key-value pair\n",
        "del my_spellbook['teleport']\n",
        "my_spellbook"
      ],
      "metadata": {
        "colab": {
          "base_uri": "https://localhost:8080/"
        },
        "id": "ir4fDZMBNnyA",
        "outputId": "df3d0d88-841b-4cc7-b5fc-dfe4f1745724"
      },
      "execution_count": null,
      "outputs": [
        {
          "output_type": "execute_result",
          "data": {
            "text/plain": [
              "{'fireball': 3, 'heal': 3, 'lightning': 4}"
            ]
          },
          "metadata": {},
          "execution_count": 34
        }
      ]
    },
    {
      "cell_type": "code",
      "source": [
        "# Magic Pet sound exercise\n",
        "# Sound dictioanry\n",
        "pet_sounds = dict(mew = 'I am hungry', woof = 'I want to play', grr = 'I am angry')\n",
        "\n",
        "## Make a code telling the user the meanings of the sound\n",
        "\n",
        "print(f\"the possibilities are: {list(pet_sounds.keys())}\")\n",
        "sound = input(\"enter the sound: \")\n",
        "meaning = pet_sounds.get(sound, \"nonsense\")\n",
        "print(f\"Your magical pet said {meaning}\")"
      ],
      "metadata": {
        "colab": {
          "base_uri": "https://localhost:8080/"
        },
        "id": "L1BtgQhjNuLu",
        "outputId": "d5dddf3a-ca5c-4429-b37a-9c4ccd5445a8"
      },
      "execution_count": null,
      "outputs": [
        {
          "output_type": "stream",
          "name": "stdout",
          "text": [
            "the possibilities are: ['mew', 'woof', 'grr']\n",
            "enter the sound: grr\n",
            "Your magical pet said I am angry\n"
          ]
        }
      ]
    },
    {
      "cell_type": "code",
      "source": [
        "# Budget Mastermind Challenge\n",
        "expenses = dict(groceries = 0, entertainment = 0, shopping = 0, other = 0)\n",
        "income = dict(salary = 0, investments = 0, other = 0)\n",
        "transactions = []\n",
        "\n",
        "while True:\n",
        "  transaction_type = input(\"Is it an income or expense?: \")\n",
        "  if transaction_type == 'income':\n",
        "    source = input(\"Enter the source (salary, investments, or other)?: \")\n",
        "    amount = float(input(\"Enter the amount: \"))\n",
        "    income[source] += amount\n",
        "    transactions.append(dict(transaction_type = transaction_type, source = source, amount = amount))\n",
        "\n",
        "  elif transaction_type == 'expense':\n",
        "    category = input(\"Enter the source (groceries, entertainment, shopping, or other)?: \")\n",
        "    amount = float(input(\"Enter the amount: \"))\n",
        "    expenses[category] += amount\n",
        "    transactions.append(dict(transaction_type = transaction_type, category = category, amount = amount))\n",
        "\n",
        "  else:\n",
        "    break\n",
        "\n",
        "total_income = sum(income.values())\n",
        "total_expenses = sum(expenses.values())\n",
        "balance = total_income - total_expenses\n",
        "\n",
        "print(\"Transaction list: \")\n",
        "print(f\"The total income is {total_income}\")\n",
        "print(f\"The total expenses are {total_expenses}\")\n",
        "print(f\"Your current balance is {balance}\")\n"
      ],
      "metadata": {
        "colab": {
          "base_uri": "https://localhost:8080/"
        },
        "id": "JEfz4znbOqVI",
        "outputId": "85a4bc9f-0e85-4273-8108-f790793af939"
      },
      "execution_count": null,
      "outputs": [
        {
          "output_type": "stream",
          "name": "stdout",
          "text": [
            "Is it an income or expense?: income\n",
            "Enter the source (salary, investments, or other)?: salary\n",
            "Enter the amount: 600\n",
            "Is it an income or expense?: expense\n",
            "Enter the source (groceries, entertainment, shopping, or other)?: groceries\n",
            "Enter the amount: 200\n",
            "Is it an income or expense?: complete\n",
            "Transaction list: \n",
            "[{'transaction_type': 'income', 'source': 'salary', 'amount': 600.0}, {'transaction_type': 'expense', 'category': 'groceries', 'amount': 200.0}]\n",
            "The total income is 600.0\n",
            "The total expenses are 200.0\n",
            "Your current balance is 400.0\n"
          ]
        }
      ]
    },
    {
      "cell_type": "markdown",
      "source": [
        "# For Loops"
      ],
      "metadata": {
        "id": "m38SWG5ZQn7l"
      }
    },
    {
      "cell_type": "code",
      "source": [
        "# Simple for-loop\n",
        "colors = ['red', 'blue', 'green']\n",
        "\n",
        "for color in colors:\n",
        "  print(f\"The color is {color}\")"
      ],
      "metadata": {
        "colab": {
          "base_uri": "https://localhost:8080/"
        },
        "id": "Cg4JTNiZQq04",
        "outputId": "9055e770-2e73-4a34-8053-a553fba16e54"
      },
      "execution_count": null,
      "outputs": [
        {
          "output_type": "stream",
          "name": "stdout",
          "text": [
            "The color is red\n",
            "The color is blue\n",
            "The color is green\n"
          ]
        }
      ]
    },
    {
      "cell_type": "code",
      "source": [
        "# Using the range function to iterate through a loop\n",
        "#list(range(1,5))\n",
        "for i in range(5):\n",
        "  print(f\"Iteration {i}\")"
      ],
      "metadata": {
        "colab": {
          "base_uri": "https://localhost:8080/"
        },
        "id": "EmSPsCpmjQBS",
        "outputId": "792428db-b609-4364-f52e-bc6f9639ffb3"
      },
      "execution_count": null,
      "outputs": [
        {
          "output_type": "stream",
          "name": "stdout",
          "text": [
            "Iteration 0\n",
            "Iteration 1\n",
            "Iteration 2\n",
            "Iteration 3\n",
            "Iteration 4\n"
          ]
        }
      ]
    },
    {
      "cell_type": "code",
      "source": [
        "# Sum of numbers\n",
        "n = int(input(\"please enter a number: \"))\n",
        "total_sum = 0\n",
        "for i in range(1, n + 1):\n",
        "  total_sum += i\n",
        "print(f\"The sum of all numbers from 1 to {n} is {total_sum}\")"
      ],
      "metadata": {
        "colab": {
          "base_uri": "https://localhost:8080/"
        },
        "id": "g-5rvPcRjcWI",
        "outputId": "0269a8fc-f4bc-4f15-bc81-588d49ca812f"
      },
      "execution_count": null,
      "outputs": [
        {
          "output_type": "stream",
          "name": "stdout",
          "text": [
            "please enter a number: 4\n",
            "The sum of all numbers from 1 to 4 is 10\n"
          ]
        }
      ]
    },
    {
      "cell_type": "code",
      "source": [
        "# Exercise - count the number of times a character appears in a string\n",
        "string = input(\"Please enter a word or sentence: \")\n",
        "char_count = dict()\n",
        "for character in string:\n",
        "  if character in char_count:\n",
        "    char_count[character] += 1\n",
        "\n",
        "  else:\n",
        "    char_count[character] = 1\n",
        "\n",
        "sorted_items = sorted(char_count.items())\n",
        "\n",
        "print(\"Character count: \")\n",
        "for char, count in sorted_items:\n",
        "  print(f\"{char}: {count}\")"
      ],
      "metadata": {
        "colab": {
          "base_uri": "https://localhost:8080/"
        },
        "id": "LACpPSS2jx89",
        "outputId": "c0389c72-3cc5-41c0-ddf1-d566225687fd"
      },
      "execution_count": null,
      "outputs": [
        {
          "output_type": "stream",
          "name": "stdout",
          "text": [
            "Please enter a word or sentence: william should learn how to code\n",
            "Character count: \n",
            " : 5\n",
            "a: 2\n",
            "c: 1\n",
            "d: 2\n",
            "e: 2\n",
            "h: 2\n",
            "i: 2\n",
            "l: 4\n",
            "m: 1\n",
            "n: 1\n",
            "o: 4\n",
            "r: 1\n",
            "s: 1\n",
            "t: 1\n",
            "u: 1\n",
            "w: 2\n"
          ]
        }
      ]
    },
    {
      "cell_type": "code",
      "source": [
        "# Game data\n",
        "# location dictionary\n",
        "locations = {\n",
        "    'start': {\n",
        "        'description': \"You are at the starting point. There are two paths: left and right.\",\n",
        "        'options': {'left': 'forest', 'right': 'cave'}\n",
        "    },\n",
        "    'forest': {\n",
        "        'description': \"You are in a dense forest. There are two paths: forward and backward.\",\n",
        "        'options': {'forward': 'river', 'backward': 'start'}\n",
        "    },\n",
        "    'cave': {\n",
        "        'description': \"You are inside a dark cave. There are two paths: forward and backward.\",\n",
        "        'options': {'forward': 'treasure', 'backward': 'start'}\n",
        "    },\n",
        "    'river': {\n",
        "        'description': \"You are at the edge of a roaring river. There is no way forward.\",\n",
        "        'options': {'backward': 'forest'}\n",
        "    },\n",
        "    'treasure': {\n",
        "        'description': \"You've found the treasure! Congratulations!\",\n",
        "        'options': {}\n",
        "    }\n",
        "}\n",
        "\n",
        "# Make a game where the goal is to get to the treasure\n",
        "# implement game loop based on user input that displays options and updates the current location of the player\n",
        "# validate user inpute and ensure the game handles invalid choices\n",
        "# Implement win condition where when the player discovers treasure the game ends\n",
        "\n",
        "# Game\n",
        "current_location = 'start'\n",
        "while True:\n",
        "  print(locations[current_location]['description'])\n",
        "\n",
        "  options = locations[current_location]['options']\n",
        "  print(\"Options: \")\n",
        "  for option in options:\n",
        "    print(f\"{option}\")\n",
        "\n",
        "  user_choice = input(\"Choose and option: \").lower()\n",
        "\n",
        "  while user_choice not in options:\n",
        "    user_choice = input(\"Invalid option, choose again: \")\n",
        "\n",
        "  current_location = options[user_choice]\n",
        "\n",
        "  if current_location == 'treasure':\n",
        "    break\n",
        "\n",
        "print(\"game over, you found the treasure\")"
      ],
      "metadata": {
        "colab": {
          "base_uri": "https://localhost:8080/"
        },
        "id": "wA7AyPxVlC6z",
        "outputId": "cc99a481-15af-4461-fc7d-6a4642d52df2"
      },
      "execution_count": null,
      "outputs": [
        {
          "output_type": "stream",
          "name": "stdout",
          "text": [
            "You are at the starting point. There are two paths: left and right.\n",
            "Options: \n",
            "left\n",
            "right\n",
            "Choose and option: right\n",
            "You are inside a dark cave. There are two paths: forward and backward.\n",
            "Options: \n",
            "forward\n",
            "backward\n",
            "Choose and option: forward\n",
            "game over, you found the treasure\n"
          ]
        }
      ]
    },
    {
      "cell_type": "markdown",
      "source": [
        "# Functions"
      ],
      "metadata": {
        "id": "_bXuaHaA0xdm"
      }
    },
    {
      "cell_type": "code",
      "source": [
        "# Making a function\n",
        "# def function_name():\n",
        "  # function body\n",
        "def greet():\n",
        "  print(\"Howdy partner!\")\n",
        "\n",
        "greet()"
      ],
      "metadata": {
        "colab": {
          "base_uri": "https://localhost:8080/"
        },
        "id": "xvgWzWhz03Io",
        "outputId": "662cace6-8b46-4cdd-e22d-3dfec26c46ed"
      },
      "execution_count": null,
      "outputs": [
        {
          "output_type": "stream",
          "name": "stdout",
          "text": [
            "Howdy partner!\n"
          ]
        }
      ]
    },
    {
      "cell_type": "code",
      "source": [
        "# Function with one input\n",
        "def food(food1):\n",
        "  print(f\"{food1} is delicious\")\n",
        "\n",
        "food(\"tacos\")"
      ],
      "metadata": {
        "colab": {
          "base_uri": "https://localhost:8080/"
        },
        "id": "lfSa4nqm2y-a",
        "outputId": "7e7a58c7-88e1-4f4c-b1a0-36fedc4cecea"
      },
      "execution_count": null,
      "outputs": [
        {
          "output_type": "stream",
          "name": "stdout",
          "text": [
            "tacos is delicious\n"
          ]
        }
      ]
    },
    {
      "cell_type": "code",
      "source": [
        "# Functions with 2 or more inputs\n",
        "def mix_food(food1, food2):\n",
        "  print(f\"{food1} and {food2} are tasty\")\n",
        "\n",
        "mix_food(\"pizza\", \"tacos\")"
      ],
      "metadata": {
        "colab": {
          "base_uri": "https://localhost:8080/"
        },
        "id": "I48KM5ir3P3f",
        "outputId": "b9b125b7-a57c-4703-a63a-0961edfc74ba"
      },
      "execution_count": null,
      "outputs": [
        {
          "output_type": "stream",
          "name": "stdout",
          "text": [
            "pizza and tacos are tasty\n"
          ]
        }
      ]
    },
    {
      "cell_type": "code",
      "source": [
        "# Use a function and store results\n",
        "def mix_foods(food1, food2):\n",
        "  return f\"Mixing {food1} and {food2} is tasty\"\n",
        "\n",
        "party_dish = mix_foods(\"pizza\", \"tacos\")\n",
        "print(party_dish)"
      ],
      "metadata": {
        "colab": {
          "base_uri": "https://localhost:8080/"
        },
        "id": "jBH1Kylw3qu1",
        "outputId": "cc50302f-84f1-49ec-f33c-3730db4e9f40"
      },
      "execution_count": null,
      "outputs": [
        {
          "output_type": "stream",
          "name": "stdout",
          "text": [
            "Mixing pizza and tacos is tasty\n"
          ]
        }
      ]
    },
    {
      "cell_type": "code",
      "source": [
        "# Function that adds numbers\n",
        "\n",
        "def add(a,b):\n",
        "  return a + b\n",
        "\n",
        "results = add(4,6)\n",
        "\n",
        "\n",
        "# Count the number of vowels in a word\n",
        "# Ninja -> 2\n",
        "\n",
        "def vowel_count(string):\n",
        "  vowels = \"aeiouAEIOU\"\n",
        "  count = 0\n",
        "  for char in string:\n",
        "    if char in vowels:\n",
        "       count += 1\n",
        "  return count\n",
        "\n",
        "result = vowel_count(\"Marcus Jeffery Moellmer\")\n",
        "print(result)\n",
        "\n",
        "\n",
        "def count_vowel(word):\n",
        "  word = \"NINJA\"\n",
        "  word = word.lower()\n",
        "  vowel = \"aeiou\"\n",
        "  counts = 0\n",
        "\n",
        "  for char in word:\n",
        "    if char in vowel:\n",
        "      counts += 1\n",
        "  return counts\n",
        "\n",
        "answer = count_vowel(\"Hero\") # Calling the function count_vowel\n",
        "print(answer)"
      ],
      "metadata": {
        "colab": {
          "base_uri": "https://localhost:8080/"
        },
        "id": "BU9XOPyW41Vk",
        "outputId": "e2b48ad5-1539-42ab-d14d-ddc14e85ea1b"
      },
      "execution_count": null,
      "outputs": [
        {
          "output_type": "stream",
          "name": "stdout",
          "text": [
            "7\n",
            "2\n"
          ]
        }
      ]
    },
    {
      "cell_type": "code",
      "source": [
        "# Create a function that transforms farenheit to celcius\n",
        "# input = farenheight, output = celcius\n",
        "F = int(input(\"what is the Temperature in Farenheight?: \"))\n",
        "C = round((F - 32)*(5/9))\n",
        "print(f\"The temperature in celcius is: {C}\")\n",
        "\n",
        "# Teacher answer\n",
        "def convert_to_celcius(F):\n",
        "  F = int(input(\"what is the Temperature in Farenheight?: \"))\n",
        "  C = round((F - 32)*(5/9))\n",
        "  return C\n",
        "\n",
        "celcius_temp = convert_to_celcius(F)\n",
        "print(f\"The Temperature in Celcius is: {celcius_temp}\")"
      ],
      "metadata": {
        "colab": {
          "base_uri": "https://localhost:8080/"
        },
        "id": "k5XiWaIRCbuF",
        "outputId": "b6a149ff-d8c5-43cf-a9d2-8fe997660cfc"
      },
      "execution_count": null,
      "outputs": [
        {
          "output_type": "stream",
          "name": "stdout",
          "text": [
            "what is the Temperature in Farenheight?: 57\n",
            "The temperature in celcius is: 14\n",
            "what is the Temperature in Farenheight?: 57\n",
            "The Temperature in Celcius is: 14\n"
          ]
        }
      ]
    },
    {
      "cell_type": "code",
      "source": [
        "# Recepie Conversion challenge\n",
        "# be able to convert easily between grams, ounces, cups, tablespoons, and teaspoons\n",
        "\n",
        "# Ingredient list\n",
        "ingredients = [\n",
        "    {'name': 'flour', 'quantity': 200, 'unit': 'g'},\n",
        "    {'name': 'sugar', 'quantity': 100, 'unit': 'g'},\n",
        "    {'name': 'butter', 'quantity': 150, 'unit': 'g'},\n",
        "    {'name': 'eggs', 'quantity': 2, 'unit': 'pcs'},\n",
        "    {'name': 'vanilla extract', 'quantity': 5, 'unit': 'ml'}\n",
        "]\n",
        "\n",
        "# Conversion table\n",
        "conversion_table = {\n",
        "    'g': {'oz': 0.035274, 'cups': 0.00422675, 'tbsp': 0.067628, 'tsp': 0.202884},\n",
        "    'oz': {'g': 28.3495, 'cups': 0.119826, 'tbsp': 1.91722, 'tsp': 5.75167},\n",
        "    'cups': {'g': 236.588, 'oz': 8.3454, 'tbsp': 16, 'tsp': 48},\n",
        "    'tbsp': {'g': 14.7868, 'oz': 0.521594, 'cups': 0.0625, 'tsp': 3},\n",
        "    'tsp': {'g': 4.92892, 'oz': 0.173473, 'cups': 0.0208333, 'tbsp': 0.333333}\n",
        "}\n",
        "\n",
        "# Build a simple function that converts units\n",
        "def convert_units(quantity, from_unit, to_unit):\n",
        "  if from_unit == to_unit:\n",
        "    conversion_factor = 1\n",
        "  else:\n",
        "    conversion_factor = conversion_table[from_unit][to_unit]\n",
        "  return quantity * conversion_factor\n",
        "\n",
        "\n",
        "def recipe_converter(ingredients, recipe_factor, desired_units):\n",
        "# Converted ingredients\n",
        "  converted_recipe = []\n",
        "\n",
        "  for i in range(len(ingredients)):\n",
        "    ingredient = ingredients[i]\n",
        "    desired_unit = desired_units[i]\n",
        "    original_quantity = ingredient['quantity']\n",
        "    original_unit = ingredient['unit']\n",
        "\n",
        "  # scale the quantities\n",
        "    scaled_quantity = original_quantity * recipe_factor\n",
        "  # convert the units and store them\n",
        "    converted_quantity = convert_units(scaled_quantity, original_unit, desired_unit)\n",
        "    converted_ingredients = dict(name = ingredient['name'], quantity = converted_quantity, unit = desired_unit)\n",
        "    converted_recipe.append(converted_ingredients)\n",
        "  return converted_recipe"
      ],
      "metadata": {
        "id": "b_xk5pO5HAYS"
      },
      "execution_count": 21,
      "outputs": []
    },
    {
      "cell_type": "code",
      "source": [
        "# Ingredients\n",
        "recipe_factor = 3\n",
        "desired_units = ['cups', 'cups', 'cups', 'pcs', 'ml']\n",
        "\n",
        "recipe_converted = recipe_converter(ingredients, recipe_factor, desired_units)\n",
        "print(\"original recipe\")\n",
        "for i in ingredients:\n",
        "  print(i)\n",
        "print(\"converted recipe\")\n",
        "for i in recipe_converted:\n",
        "  print(i)"
      ],
      "metadata": {
        "colab": {
          "base_uri": "https://localhost:8080/"
        },
        "id": "ejPpSEpNufCj",
        "outputId": "0f38bba4-dd0b-4222-a3f1-07e17c3a2770"
      },
      "execution_count": 25,
      "outputs": [
        {
          "output_type": "stream",
          "name": "stdout",
          "text": [
            "original recipe\n",
            "{'name': 'flour', 'quantity': 200, 'unit': 'g'}\n",
            "{'name': 'sugar', 'quantity': 100, 'unit': 'g'}\n",
            "{'name': 'butter', 'quantity': 150, 'unit': 'g'}\n",
            "{'name': 'eggs', 'quantity': 2, 'unit': 'pcs'}\n",
            "{'name': 'vanilla extract', 'quantity': 5, 'unit': 'ml'}\n",
            "converted recipe\n",
            "{'name': 'flour', 'quantity': 2.53605, 'unit': 'cups'}\n",
            "{'name': 'sugar', 'quantity': 1.268025, 'unit': 'cups'}\n",
            "{'name': 'butter', 'quantity': 1.9020374999999998, 'unit': 'cups'}\n",
            "{'name': 'eggs', 'quantity': 6, 'unit': 'pcs'}\n",
            "{'name': 'vanilla extract', 'quantity': 15, 'unit': 'ml'}\n"
          ]
        }
      ]
    }
  ],
  "metadata": {
    "colab": {
      "provenance": [],
      "collapsed_sections": [
        "StLUXwq9VM6-",
        "2RCpCOjycVUv",
        "kP-YwuiKhpkc",
        "QFd7RWq3lHtB",
        "Qn0vlKyJ3ThN",
        "9bZejssoKG_V",
        "PdPo2_9KM504",
        "m38SWG5ZQn7l",
        "_bXuaHaA0xdm"
      ],
      "toc_visible": true,
      "include_colab_link": true
    },
    "kernelspec": {
      "display_name": "Python 3",
      "name": "python3"
    },
    "language_info": {
      "name": "python"
    }
  },
  "nbformat": 4,
  "nbformat_minor": 0
}