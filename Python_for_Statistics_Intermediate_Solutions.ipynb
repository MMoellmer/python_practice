{
  "nbformat": 4,
  "nbformat_minor": 0,
  "metadata": {
    "colab": {
      "provenance": [],
      "collapsed_sections": [
        "FE_nzjD_M7nL",
        "RqYd8_U3cDIp",
        "DH24zgqHWalq",
        "_5T5Of9Sb632",
        "FgMY8u0EsIjh",
        "TnKY99Z79BCD",
        "L6RBzCYtG5NL",
        "wAf3v3upP61s",
        "AKUTaF6psDGD",
        "-rIkYcDQ4MSF"
      ],
      "include_colab_link": true
    },
    "kernelspec": {
      "name": "python3",
      "display_name": "Python 3"
    },
    "language_info": {
      "name": "python"
    }
  },
  "cells": [
    {
      "cell_type": "markdown",
      "metadata": {
        "id": "view-in-github",
        "colab_type": "text"
      },
      "source": [
        "<a href=\"https://colab.research.google.com/github/MMoellmer/python_practice/blob/main/Python_for_Statistics_Intermediate_Solutions.ipynb\" target=\"_parent\"><img src=\"https://colab.research.google.com/assets/colab-badge.svg\" alt=\"Open In Colab\"/></a>"
      ]
    },
    {
      "cell_type": "markdown",
      "source": [
        "# While Loops"
      ],
      "metadata": {
        "id": "FE_nzjD_M7nL"
      }
    },
    {
      "cell_type": "code",
      "execution_count": null,
      "metadata": {
        "colab": {
          "base_uri": "https://localhost:8080/"
        },
        "id": "A5fMvc-pM0y_",
        "outputId": "52740237-f8bb-4844-d741-8d5ee57dbfb7"
      },
      "outputs": [
        {
          "output_type": "stream",
          "name": "stdout",
          "text": [
            "People in the car: 0\n",
            "People in the car: 1\n",
            "People in the car: 2\n",
            "People in the car: 3\n",
            "People in the car: 4\n",
            "The car is full\n"
          ]
        }
      ],
      "source": [
        "# Uber driver simulation\n",
        "\n",
        "# Initialize the number of people in the car\n",
        "people_in_car = 0\n",
        "\n",
        "# Loop until the car is full (5 people)\n",
        "while people_in_car < 5:\n",
        "    print(f\"People in the car: {people_in_car}\")\n",
        "    people_in_car += 1\n",
        "\n",
        "# Indicate that the car is full\n",
        "print(\"The car is full\")"
      ]
    },
    {
      "cell_type": "code",
      "source": [
        "# Print the even numbers up to 20\n",
        "n = 20\n",
        "i = 0\n",
        "\n",
        "# Loop through numbers from 1 to 20\n",
        "while i <= 20:\n",
        "  i += 1\n",
        "  if i % 2 == 0:\n",
        "    print(i)\n",
        "  else:\n",
        "    print(\"The number is not even\")"
      ],
      "metadata": {
        "colab": {
          "base_uri": "https://localhost:8080/"
        },
        "id": "GYLOH-EENlRo",
        "outputId": "b19f36c3-91fd-45de-989a-f8f57cde7a1f"
      },
      "execution_count": null,
      "outputs": [
        {
          "output_type": "stream",
          "name": "stdout",
          "text": [
            "The number is not even\n",
            "2\n",
            "The number is not even\n",
            "4\n",
            "The number is not even\n",
            "6\n",
            "The number is not even\n",
            "8\n",
            "The number is not even\n",
            "10\n",
            "The number is not even\n",
            "12\n",
            "The number is not even\n",
            "14\n",
            "The number is not even\n",
            "16\n",
            "The number is not even\n",
            "18\n",
            "The number is not even\n",
            "20\n",
            "The number is not even\n"
          ]
        }
      ]
    },
    {
      "cell_type": "code",
      "source": [
        "# Exercise: Create a countdown timer from 10 to 0\n",
        "import time\n",
        "\n",
        "# Initialize countdown value\n",
        "countdown = 10\n",
        "\n",
        "# Loop until the countdown reaches 0\n",
        "while countdown >= 0:\n",
        "  if countdown == 0:\n",
        "    print(\"Liftoff!\")\n",
        "  else:\n",
        "    print(f\"T-minus {countdown} seconds\")\n",
        "\n",
        "  # Wait for 1 second\n",
        "  time.sleep(1)\n",
        "  # Decrement the countdown\n",
        "  countdown -= 1"
      ],
      "metadata": {
        "colab": {
          "base_uri": "https://localhost:8080/"
        },
        "id": "2lugZ3McQFGv",
        "outputId": "f657269c-2ecf-40c6-9111-9686f8f174f7"
      },
      "execution_count": null,
      "outputs": [
        {
          "output_type": "stream",
          "name": "stdout",
          "text": [
            "T-minus 10 seconds\n",
            "T-minus 9 seconds\n",
            "T-minus 8 seconds\n",
            "T-minus 7 seconds\n",
            "T-minus 6 seconds\n",
            "T-minus 5 seconds\n",
            "T-minus 4 seconds\n",
            "T-minus 3 seconds\n",
            "T-minus 2 seconds\n",
            "T-minus 1 seconds\n",
            "Liftoff!\n"
          ]
        }
      ]
    },
    {
      "cell_type": "markdown",
      "source": [
        "# Lists"
      ],
      "metadata": {
        "id": "RqYd8_U3cDIp"
      }
    },
    {
      "cell_type": "code",
      "source": [
        "# Simple list\n",
        "numbers = [1, 2, 3, 4, 5]"
      ],
      "metadata": {
        "id": "k_HL-ePXcEYb"
      },
      "execution_count": null,
      "outputs": []
    },
    {
      "cell_type": "code",
      "source": [
        "# Mixed list\n",
        "mixed_list = [42, \"Hello\", 3.14, True]\n",
        "print(mixed_list)"
      ],
      "metadata": {
        "colab": {
          "base_uri": "https://localhost:8080/"
        },
        "id": "xkDgQ9D-cMUf",
        "outputId": "96c46e58-e780-4cf9-9244-e87cf1a82aeb"
      },
      "execution_count": null,
      "outputs": [
        {
          "output_type": "stream",
          "name": "stdout",
          "text": [
            "[42, 'Hello', 3.14, True]\n"
          ]
        }
      ]
    },
    {
      "cell_type": "code",
      "source": [
        "# Accessing the list\n",
        "# You can get specific items using their index\n",
        "# Start with index 0 for the first item\n",
        "print(numbers[0])\n",
        "print(mixed_list[2])"
      ],
      "metadata": {
        "colab": {
          "base_uri": "https://localhost:8080/"
        },
        "id": "alqWXO8ucXI-",
        "outputId": "97503323-2c3d-4b35-f19d-03603c7e29d2"
      },
      "execution_count": null,
      "outputs": [
        {
          "output_type": "stream",
          "name": "stdout",
          "text": [
            "1\n",
            "3.14\n"
          ]
        }
      ]
    },
    {
      "cell_type": "code",
      "source": [
        "# Slicing\n",
        "# Grabbing a portion of the list.\n",
        "# End of the list is not included\n",
        "numbers = [1, 2, 3, 4, 5]\n",
        "print(numbers[1:4])"
      ],
      "metadata": {
        "colab": {
          "base_uri": "https://localhost:8080/"
        },
        "id": "OUfshKGZcrku",
        "outputId": "337334f6-c0b0-48cf-f1d5-fdf35e1f7454"
      },
      "execution_count": null,
      "outputs": [
        {
          "output_type": "stream",
          "name": "stdout",
          "text": [
            "[2, 3, 4]\n"
          ]
        }
      ]
    },
    {
      "cell_type": "code",
      "source": [
        "# Modifying\n",
        "# List are mutable -> you can change them\n",
        "# Assigning a new value via their index\n",
        "numbers[0] = 100\n",
        "print(numbers)"
      ],
      "metadata": {
        "colab": {
          "base_uri": "https://localhost:8080/"
        },
        "id": "Sw9aZ-mRc6dM",
        "outputId": "737f390f-c9bf-4a11-d589-02965ab14415"
      },
      "execution_count": null,
      "outputs": [
        {
          "output_type": "stream",
          "name": "stdout",
          "text": [
            "[100, 2, 3, 4, 5]\n"
          ]
        }
      ]
    },
    {
      "cell_type": "code",
      "source": [
        "# Adding items to the list\n",
        "# Append method\n",
        "numbers.append(9)\n",
        "print(numbers)"
      ],
      "metadata": {
        "colab": {
          "base_uri": "https://localhost:8080/"
        },
        "id": "RVLm1GJXdFiK",
        "outputId": "f25ae96d-0608-430b-fd8c-e899c0a894c6"
      },
      "execution_count": null,
      "outputs": [
        {
          "output_type": "stream",
          "name": "stdout",
          "text": [
            "[100, 2, 3, 4, 5, 9]\n"
          ]
        }
      ]
    },
    {
      "cell_type": "code",
      "source": [
        "# Concatenate lists with '+' operator\n",
        "numbers = numbers + [10, 23, 43]\n",
        "print(numbers)"
      ],
      "metadata": {
        "colab": {
          "base_uri": "https://localhost:8080/"
        },
        "id": "4vZqOnxhdU0z",
        "outputId": "b350cdd2-1a0c-4cea-c792-cc965d3b893b"
      },
      "execution_count": null,
      "outputs": [
        {
          "output_type": "stream",
          "name": "stdout",
          "text": [
            "[100, 2, 3, 4, 5, 9, 10, 23, 43]\n"
          ]
        }
      ]
    },
    {
      "cell_type": "code",
      "source": [
        "# Remove items\n",
        "# del method\n",
        "del numbers[0]\n",
        "print(numbers)"
      ],
      "metadata": {
        "colab": {
          "base_uri": "https://localhost:8080/"
        },
        "id": "OWtQwq7FdfA4",
        "outputId": "2b8cc419-1be7-437b-def0-2dad7c90a000"
      },
      "execution_count": null,
      "outputs": [
        {
          "output_type": "stream",
          "name": "stdout",
          "text": [
            "[2, 3, 4, 5, 9, 10, 23, 43]\n"
          ]
        }
      ]
    },
    {
      "cell_type": "code",
      "source": [
        "# Remove a specific item using 'remove' method\n",
        "numbers.remove(4)\n",
        "print(numbers)"
      ],
      "metadata": {
        "colab": {
          "base_uri": "https://localhost:8080/"
        },
        "id": "L7W_hPvxdt5p",
        "outputId": "78f928b8-064b-442c-d1a0-cb897501cc65"
      },
      "execution_count": null,
      "outputs": [
        {
          "output_type": "stream",
          "name": "stdout",
          "text": [
            "[2, 3, 5, 9, 10, 23, 43]\n"
          ]
        }
      ]
    },
    {
      "cell_type": "code",
      "source": [
        "# Remove the last item from the list using the 'pop' method\n",
        "last_number = numbers.pop()\n",
        "print(numbers)\n",
        "print(last_number)"
      ],
      "metadata": {
        "colab": {
          "base_uri": "https://localhost:8080/"
        },
        "id": "9H7IxJaId7M5",
        "outputId": "a41a5fd7-e31c-420a-9cbc-c1aee64b5916"
      },
      "execution_count": null,
      "outputs": [
        {
          "output_type": "stream",
          "name": "stdout",
          "text": [
            "[2, 3, 5, 9, 10, 23]\n",
            "43\n"
          ]
        }
      ]
    },
    {
      "cell_type": "code",
      "source": [
        "# Remove a specific item from the list using 'pop' method with an index\n",
        "some_number = numbers.pop(-2)\n",
        "print(numbers)\n",
        "print(some_number)"
      ],
      "metadata": {
        "colab": {
          "base_uri": "https://localhost:8080/"
        },
        "id": "yHQJdBsveQ_p",
        "outputId": "4b9b9d26-beba-45d8-825d-0af492a23a7a"
      },
      "execution_count": null,
      "outputs": [
        {
          "output_type": "stream",
          "name": "stdout",
          "text": [
            "[2, 3, 5, 9, 23]\n",
            "10\n"
          ]
        }
      ]
    },
    {
      "cell_type": "code",
      "source": [
        "# Monthly report of expenses\n",
        "# Compute the total expenses for the month\n",
        "# Compute the average spending for the month\n",
        "\n",
        "# Expense report\n",
        "monthly_expenses = [1200, 1350, 1050, 1450, 1150, 900, 1220]\n",
        "\n",
        "# Compute the total expenses\n",
        "total_expenses = sum(monthly_expenses)\n",
        "print(f\"This month, it was spent in total {total_expenses}\")\n",
        "\n",
        "# Compute the average expense\n",
        "avg_spending = total_expenses / len(monthly_expenses)\n",
        "print(f\"This month, each expense was {avg_spending:.2f} on average\")"
      ],
      "metadata": {
        "colab": {
          "base_uri": "https://localhost:8080/"
        },
        "id": "ehcpTwNIem_d",
        "outputId": "15ea9097-093e-42de-d1da-060f824c629b"
      },
      "execution_count": null,
      "outputs": [
        {
          "output_type": "stream",
          "name": "stdout",
          "text": [
            "This month, it was spent in total 8320\n",
            "This month, each expense was 1188.57 on average\n"
          ]
        }
      ]
    },
    {
      "cell_type": "code",
      "source": [
        "# Print the first 10 fibonacci numbers\n",
        "\n",
        "# Initialize the first two numbers of the Fibonacci sequence\n",
        "first_number = 1\n",
        "second_number = 1\n",
        "fibonacci = []\n",
        "\n",
        "# Loop until we have 10 Fibonacci numbers\n",
        "while len(fibonacci) < 10:\n",
        "    # Append the current first number to the list\n",
        "    fibonacci.append(first_number)\n",
        "\n",
        "    # Calculate the next number in the sequence\n",
        "    third_number = first_number + second_number\n",
        "\n",
        "    # Update the first and second numbers\n",
        "    first_number = second_number\n",
        "    second_number = third_number\n",
        "\n",
        "    # Print the current list of Fibonacci numbers\n",
        "    print(fibonacci)"
      ],
      "metadata": {
        "colab": {
          "base_uri": "https://localhost:8080/"
        },
        "id": "wn3fLWafhUTS",
        "outputId": "7696b031-c3c8-4e99-a389-2448dc55a82a"
      },
      "execution_count": null,
      "outputs": [
        {
          "output_type": "stream",
          "name": "stdout",
          "text": [
            "[1]\n",
            "[1, 1]\n",
            "[1, 1, 2]\n",
            "[1, 1, 2, 3]\n",
            "[1, 1, 2, 3, 5]\n",
            "[1, 1, 2, 3, 5, 8]\n",
            "[1, 1, 2, 3, 5, 8, 13]\n",
            "[1, 1, 2, 3, 5, 8, 13, 21]\n",
            "[1, 1, 2, 3, 5, 8, 13, 21, 34]\n",
            "[1, 1, 2, 3, 5, 8, 13, 21, 34, 55]\n"
          ]
        }
      ]
    },
    {
      "cell_type": "markdown",
      "source": [
        "# Randomization"
      ],
      "metadata": {
        "id": "DH24zgqHWalq"
      }
    },
    {
      "cell_type": "code",
      "source": [
        "import random"
      ],
      "metadata": {
        "id": "yE346hrrLs5X"
      },
      "execution_count": null,
      "outputs": []
    },
    {
      "cell_type": "code",
      "source": [
        "# Generate a random float between 0 and 1\n",
        "random_float = random.random()\n",
        "print(random_float)"
      ],
      "metadata": {
        "colab": {
          "base_uri": "https://localhost:8080/"
        },
        "id": "-NlSdLa2Wd4y",
        "outputId": "73542389-d3c4-4e1c-d0ae-475613d7d7d7"
      },
      "execution_count": null,
      "outputs": [
        {
          "output_type": "stream",
          "name": "stdout",
          "text": [
            "0.5237900649752237\n"
          ]
        }
      ]
    },
    {
      "cell_type": "code",
      "source": [
        "# Generate a random integer\n",
        "random.randint(1, 10)"
      ],
      "metadata": {
        "colab": {
          "base_uri": "https://localhost:8080/"
        },
        "id": "_ylWfK8CWs5B",
        "outputId": "338c6efe-aef4-425c-efc3-dcf7e7533775"
      },
      "execution_count": null,
      "outputs": [
        {
          "output_type": "execute_result",
          "data": {
            "text/plain": [
              "7"
            ]
          },
          "metadata": {},
          "execution_count": 18
        }
      ]
    },
    {
      "cell_type": "code",
      "source": [
        "# Generate a random float within a range\n",
        "random.uniform(1,5)"
      ],
      "metadata": {
        "colab": {
          "base_uri": "https://localhost:8080/"
        },
        "id": "Nr9HvdomW1V0",
        "outputId": "5a158fce-2b43-4dc9-8fcf-22f3c850006c"
      },
      "execution_count": null,
      "outputs": [
        {
          "output_type": "execute_result",
          "data": {
            "text/plain": [
              "1.8353546879077092"
            ]
          },
          "metadata": {},
          "execution_count": 19
        }
      ]
    },
    {
      "cell_type": "code",
      "source": [
        "# Choose a random element from a list\n",
        "my_list = ['apple', 'banana', 'cherry', 'orange']\n",
        "random.choice(my_list)"
      ],
      "metadata": {
        "colab": {
          "base_uri": "https://localhost:8080/",
          "height": 35
        },
        "id": "hd3-ACIlXA6W",
        "outputId": "8a251637-9ef0-4223-a018-94c4c89ea147"
      },
      "execution_count": null,
      "outputs": [
        {
          "output_type": "execute_result",
          "data": {
            "text/plain": [
              "'apple'"
            ],
            "application/vnd.google.colaboratory.intrinsic+json": {
              "type": "string"
            }
          },
          "metadata": {},
          "execution_count": 20
        }
      ]
    },
    {
      "cell_type": "code",
      "source": [
        "# Shuffle a list\n",
        "my_numbers = [1,2,3,4,5]\n",
        "random.shuffle(my_numbers)\n",
        "my_numbers"
      ],
      "metadata": {
        "colab": {
          "base_uri": "https://localhost:8080/"
        },
        "id": "v_pxTl5FXOMk",
        "outputId": "a7ad0e37-e9af-4588-9ff1-bc1f88aca656"
      },
      "execution_count": null,
      "outputs": [
        {
          "output_type": "execute_result",
          "data": {
            "text/plain": [
              "[2, 3, 4, 1, 5]"
            ]
          },
          "metadata": {},
          "execution_count": 21
        }
      ]
    },
    {
      "cell_type": "code",
      "source": [
        "# Sample random elements from the list\n",
        "random.sample(my_numbers, 3)"
      ],
      "metadata": {
        "colab": {
          "base_uri": "https://localhost:8080/"
        },
        "id": "al0VUbuZXXEG",
        "outputId": "e08293c3-83f4-4910-e970-fa1349cd184a"
      },
      "execution_count": null,
      "outputs": [
        {
          "output_type": "execute_result",
          "data": {
            "text/plain": [
              "[1, 5, 3]"
            ]
          },
          "metadata": {},
          "execution_count": 22
        }
      ]
    },
    {
      "cell_type": "code",
      "source": [
        "# Random Movie Picker:\n",
        "# reate a list of your favorite movies\n",
        "# Write a program that randomly picks a movie to watch until you've seen them all.\n",
        "remaining_movies = ['The Matrix', 'Inception', 'The Dark Knight',\n",
        "                    'Avengers: Endgame', 'Interstellar']\n",
        "\n",
        "while remaining_movies:\n",
        "  # Pick a random movie from the list\n",
        "  chosen_movie = random.choice(remaining_movies)\n",
        "  # Inform the user about the chosen movie\n",
        "  print(f\"You will watch the {chosen_movie}\")\n",
        "  # Remove the chosen movie from the list\n",
        "  remaining_movies.remove(chosen_movie)"
      ],
      "metadata": {
        "colab": {
          "base_uri": "https://localhost:8080/"
        },
        "id": "OhD2zSnLZFHK",
        "outputId": "78681e6b-d06c-49f7-9320-39fd1f20907e"
      },
      "execution_count": null,
      "outputs": [
        {
          "output_type": "stream",
          "name": "stdout",
          "text": [
            "You will watch the Avengers: Endgame\n",
            "You will watch the The Matrix\n",
            "You will watch the Interstellar\n",
            "You will watch the Inception\n",
            "You will watch the The Dark Knight\n"
          ]
        }
      ]
    },
    {
      "cell_type": "markdown",
      "source": [
        "# Challenge: Read my mind"
      ],
      "metadata": {
        "id": "_5T5Of9Sb632"
      }
    },
    {
      "cell_type": "code",
      "source": [
        "# Settings\n",
        "target_number = random.randint(1,100)\n",
        "attempts = 5\n",
        "user_guess = None\n",
        "\n",
        "# Read my mind game\n",
        "while (user_guess != target_number) and (attempts > 0):\n",
        "  # Get the user's guess\n",
        "  user_guess = int(input(\"Guess a number between 1 and 100: \"))\n",
        "\n",
        "  # Determine if the guess is correct\n",
        "  if user_guess < target_number:\n",
        "    print(\"Higher!\")\n",
        "  elif user_guess > target_number:\n",
        "    print(\"Lower\")\n",
        "  else:\n",
        "    None  # Exit the loop if the guess is correct\n",
        "\n",
        "  # End of turn\n",
        "  attempts -= 1\n",
        "\n",
        "# Outcome if the user didn't guess correctly\n",
        "if user_guess == target_number:\n",
        "  print(\"Congratulations! You read my mind\")\n",
        "else:\n",
        "  print(\"Unfortunately, you cannot read people's minds\")"
      ],
      "metadata": {
        "colab": {
          "base_uri": "https://localhost:8080/"
        },
        "id": "7TmeSZMib9zl",
        "outputId": "329d6f1e-73ba-46dd-8f7b-7bbcd1c30fad"
      },
      "execution_count": null,
      "outputs": [
        {
          "output_type": "stream",
          "name": "stdout",
          "text": [
            "Guess a number between 1 and 100: 1\n",
            "Higher!\n",
            "Guess a number between 1 and 100: 1\n",
            "Higher!\n",
            "Guess a number between 1 and 100: 1\n",
            "Higher!\n",
            "Guess a number between 1 and 100: 1\n",
            "Higher!\n",
            "Guess a number between 1 and 100: 1\n",
            "Higher!\n",
            "Unfortunately, you cannot people's minds\n"
          ]
        }
      ]
    },
    {
      "cell_type": "markdown",
      "source": [
        "# Dictionaries"
      ],
      "metadata": {
        "id": "FgMY8u0EsIjh"
      }
    },
    {
      "cell_type": "code",
      "source": [
        "# Creating a dictonary\n",
        "my_spellbook = {'fireball': 3, 'teleport': 5, 'heal': 2}\n",
        "my_spellbook.items()"
      ],
      "metadata": {
        "colab": {
          "base_uri": "https://localhost:8080/"
        },
        "id": "avFmGgJ8sKlP",
        "outputId": "0ea371d9-6b13-4c52-a5a2-1005ede5d16f"
      },
      "execution_count": null,
      "outputs": [
        {
          "output_type": "execute_result",
          "data": {
            "text/plain": [
              "dict_items([('fireball', 3), ('teleport', 5), ('heal', 2)])"
            ]
          },
          "metadata": {},
          "execution_count": 26
        }
      ]
    },
    {
      "cell_type": "code",
      "source": [
        "# Another way to create a dictionary\n",
        "my_spellbook = dict(fireball = 3, teleport = 5, heal = 2)\n",
        "my_spellbook.items()"
      ],
      "metadata": {
        "colab": {
          "base_uri": "https://localhost:8080/"
        },
        "id": "UEu1BDmtsoRv",
        "outputId": "cb3446fc-5ac1-4fc2-b59e-6472e1b80a45"
      },
      "execution_count": null,
      "outputs": [
        {
          "output_type": "execute_result",
          "data": {
            "text/plain": [
              "dict_items([('fireball', 3), ('teleport', 5), ('heal', 2)])"
            ]
          },
          "metadata": {},
          "execution_count": 27
        }
      ]
    },
    {
      "cell_type": "code",
      "source": [
        "# Access the keys\n",
        "my_spellbook.keys()"
      ],
      "metadata": {
        "colab": {
          "base_uri": "https://localhost:8080/"
        },
        "id": "O4slCmV6s19S",
        "outputId": "d80d8c9e-abdb-4576-a4be-3f6c511ddbe0"
      },
      "execution_count": null,
      "outputs": [
        {
          "output_type": "execute_result",
          "data": {
            "text/plain": [
              "dict_keys(['fireball', 'teleport', 'heal'])"
            ]
          },
          "metadata": {},
          "execution_count": 28
        }
      ]
    },
    {
      "cell_type": "code",
      "source": [
        "# Access the values\n",
        "my_spellbook.values()"
      ],
      "metadata": {
        "colab": {
          "base_uri": "https://localhost:8080/"
        },
        "id": "Jd_Z93Ees8aP",
        "outputId": "26486b92-3be6-4413-d43b-4fb63a1c8023"
      },
      "execution_count": null,
      "outputs": [
        {
          "output_type": "execute_result",
          "data": {
            "text/plain": [
              "dict_values([3, 5, 2])"
            ]
          },
          "metadata": {},
          "execution_count": 29
        }
      ]
    },
    {
      "cell_type": "code",
      "source": [
        "# Adding a key-value pair\n",
        "my_spellbook['lightning'] = 4\n",
        "my_spellbook"
      ],
      "metadata": {
        "colab": {
          "base_uri": "https://localhost:8080/"
        },
        "id": "eVCiT6axtGTm",
        "outputId": "ae1a98cb-9d66-4657-b331-bd5d675a17d9"
      },
      "execution_count": null,
      "outputs": [
        {
          "output_type": "execute_result",
          "data": {
            "text/plain": [
              "{'fireball': 3, 'teleport': 5, 'heal': 2, 'lightning': 4}"
            ]
          },
          "metadata": {},
          "execution_count": 30
        }
      ]
    },
    {
      "cell_type": "code",
      "source": [
        "# Update a key_value pair\n",
        "my_spellbook['heal'] = 3\n",
        "my_spellbook"
      ],
      "metadata": {
        "colab": {
          "base_uri": "https://localhost:8080/"
        },
        "id": "B3UlDXP6tF4a",
        "outputId": "60537a2d-a2f4-4257-9baf-7154b3673ae3"
      },
      "execution_count": null,
      "outputs": [
        {
          "output_type": "execute_result",
          "data": {
            "text/plain": [
              "{'fireball': 3, 'teleport': 5, 'heal': 3, 'lightning': 4}"
            ]
          },
          "metadata": {},
          "execution_count": 31
        }
      ]
    },
    {
      "cell_type": "code",
      "source": [
        "# Delete a key-value pair\n",
        "del my_spellbook['teleport']\n",
        "my_spellbook"
      ],
      "metadata": {
        "colab": {
          "base_uri": "https://localhost:8080/"
        },
        "id": "_K8x9vNXtFnV",
        "outputId": "0b5931dd-5bb7-418d-fdda-d346cb33f4d3"
      },
      "execution_count": null,
      "outputs": [
        {
          "output_type": "execute_result",
          "data": {
            "text/plain": [
              "{'fireball': 3, 'heal': 3, 'lightning': 4}"
            ]
          },
          "metadata": {},
          "execution_count": 32
        }
      ]
    },
    {
      "cell_type": "code",
      "source": [
        "# Magical pet sound dictionary\n",
        "pet_sounds = {'mew': 'I am hungry',\n",
        "              'woof': 'I want to play',\n",
        "              'grr': 'I am angry'}\n",
        "\n",
        "## Create a Python code that tells the user the meaning of the sound\n",
        "\n",
        "# Display the available sounds\n",
        "print(f\"The possibilities are {list(pet_sounds.keys())}\")\n",
        "# Get the user's input for the sound\n",
        "sound = input(\"Enter the magical sound: \")\n",
        "\n",
        "# Interpret the meaning\n",
        "# meaning = pet_sounds[sound]\n",
        "meaning = pet_sounds.get(sound, \"nonsense\")\n",
        "\n",
        "# Communicate the findings\n",
        "print(f\"Your magical pet said {meaning}\")"
      ],
      "metadata": {
        "colab": {
          "base_uri": "https://localhost:8080/"
        },
        "id": "iHNmYRtFvUhn",
        "outputId": "f3f0709b-8257-4a00-cc8f-18417ded64dd"
      },
      "execution_count": null,
      "outputs": [
        {
          "output_type": "stream",
          "name": "stdout",
          "text": [
            "The possibilities are ['mew', 'woof', 'grr']\n",
            "Enter the magical sound: mew\n",
            "Your magical pet said I am hungry\n"
          ]
        }
      ]
    },
    {
      "cell_type": "markdown",
      "source": [
        "# Challenge: Budget Mastermind"
      ],
      "metadata": {
        "id": "TnKY99Z79BCD"
      }
    },
    {
      "cell_type": "code",
      "source": [
        "# Data structure for income and expenses\n",
        "expenses = {'groceries': 0, 'entertainment': 0, 'shopping': 0, 'other': 0}\n",
        "income = {'salary': 0, 'investments': 0, 'other': 0}\n",
        "transactions = []\n",
        "\n",
        "# User input loop\n",
        "while True:\n",
        "  # Ask user for the type of transaction\n",
        "  transaction_type = input(\"Is it an income or an expense?: \")\n",
        "\n",
        "  # Handle income transactions\n",
        "  if transaction_type == 'income':\n",
        "    source = input(\"Enter the source (salary, investments or other): \")\n",
        "    amount = float(input(\"Enter the amount: \"))\n",
        "    income[source] += amount # Update the income dictionary\n",
        "    transactions.append(dict(transaction_type = transaction_type,\n",
        "                             source = source,\n",
        "                             amount = amount))\n",
        "\n",
        "  # Handle expense transactions\n",
        "  elif transaction_type == 'expense':\n",
        "    category = input(\"Enter the category (groceries, entertainment, shopping or other): \")\n",
        "    amount = float(input(\"Enter the amount: \"))\n",
        "    expenses[category] += amount # Update the expenses dictionary\n",
        "    transactions.append(dict(transaction_type = transaction_type,\n",
        "                             category = category,\n",
        "                             amount = amount))\n",
        "\n",
        "  # Break the while-loop if input is not 'income' or 'expense'\n",
        "  else:\n",
        "    break\n",
        "\n",
        "# Calculations\n",
        "total_income = sum(income.values())  # Calculate total income\n",
        "total_expenses = sum(expenses.values())  # Calculate total expenses\n",
        "balance = total_income - total_expenses  # Calculate balance\n",
        "\n",
        "# Print the transaction list\n",
        "print(\"Transaction list: \")\n",
        "print(transactions)\n",
        "# Print the financial summary\n",
        "print(f\"The total income is {total_income}\")\n",
        "print(f\"The total expenses is {total_expenses}\")\n",
        "print(f\"Your current balance is {balance}\")"
      ],
      "metadata": {
        "colab": {
          "base_uri": "https://localhost:8080/"
        },
        "id": "FxRl5ia49FH9",
        "outputId": "2c060750-12d3-4863-966b-3434fff82480"
      },
      "execution_count": null,
      "outputs": [
        {
          "output_type": "stream",
          "name": "stdout",
          "text": [
            "Is it an income or an expense?: income\n",
            "Enter the source (salary, investments or other): salary\n",
            "Enter the amount: 100\n",
            "Is it an income or an expense?: expense\n",
            "Enter the category (groceries, entertainment, shopping or other): entertainment\n",
            "Enter the amount: 10\n",
            "Is it an income or an expense?: income\n",
            "Enter the source (salary, investments or other): investments\n",
            "Enter the amount: 20\n",
            "Is it an income or an expense?: expense\n",
            "Enter the category (groceries, entertainment, shopping or other): shopping\n",
            "Enter the amount: 50\n",
            "Is it an income or an expense?: none\n",
            "Transaction list: \n",
            "[{'transaction_type': 'income', 'source': 'salary', 'amount': 100.0}, {'transaction_type': 'expense', 'category': 'entertainment', 'amount': 10.0}, {'transaction_type': 'income', 'source': 'investments', 'amount': 20.0}, {'transaction_type': 'expense', 'category': 'shopping', 'amount': 50.0}]\n",
            "The total income is 120.0\n",
            "The total expenses is 60.0\n",
            "Your current balance is 60.0\n"
          ]
        }
      ]
    },
    {
      "cell_type": "markdown",
      "source": [
        "# For Loops"
      ],
      "metadata": {
        "id": "L6RBzCYtG5NL"
      }
    },
    {
      "cell_type": "code",
      "source": [
        "# Simple for-loop\n",
        "colors = ['red', 'blue','green']\n",
        "\n",
        "for color in colors:\n",
        "  print(f\"The color is {color}\")"
      ],
      "metadata": {
        "colab": {
          "base_uri": "https://localhost:8080/"
        },
        "id": "F-1X_fn_G7yO",
        "outputId": "9d584d4b-0204-43da-c893-825fbe9645b7"
      },
      "execution_count": null,
      "outputs": [
        {
          "output_type": "stream",
          "name": "stdout",
          "text": [
            "The color is red\n",
            "The color is blue\n",
            "The color is green\n"
          ]
        }
      ]
    },
    {
      "cell_type": "code",
      "source": [
        "# Using the range function to iterate through a loop\n",
        "# list(range(1,5))\n",
        "for i in range(5):\n",
        "  print(f\"Iterarion {i}\")"
      ],
      "metadata": {
        "colab": {
          "base_uri": "https://localhost:8080/"
        },
        "id": "2ZpNYiPbHZFn",
        "outputId": "0785cea5-cf66-4bb7-b3f6-d1c8cc252b31"
      },
      "execution_count": null,
      "outputs": [
        {
          "output_type": "stream",
          "name": "stdout",
          "text": [
            "Iterarion 0\n",
            "Iterarion 1\n",
            "Iterarion 2\n",
            "Iterarion 3\n",
            "Iterarion 4\n"
          ]
        }
      ]
    },
    {
      "cell_type": "code",
      "source": [
        "# Sum of numbers\n",
        "# 8: 8+7+6+5+4+3+2+1\n",
        "# 4: 4+3+2+1\n",
        "\n",
        "# User input for the number\n",
        "n = int(input(\"Please enter a number: \"))\n",
        "# Initialize the total sum variable\n",
        "total_sum = 0\n",
        "\n",
        "# Loop through numbers from 1 to n\n",
        "for i in range(1, n + 1):\n",
        "  total_sum += i # Add each number to the total sum\n",
        "\n",
        "# Print the result\n",
        "print(f\"The sum of all numbers from 1 to {n} is {total_sum}\")"
      ],
      "metadata": {
        "colab": {
          "base_uri": "https://localhost:8080/"
        },
        "id": "HK6AUcjNIYQy",
        "outputId": "392a7be6-f5db-455e-a4e8-bf211bd158f3"
      },
      "execution_count": null,
      "outputs": [
        {
          "output_type": "stream",
          "name": "stdout",
          "text": [
            "Please enter a number: 4\n",
            "The sum of all numbers from 1 to 4 is 10\n"
          ]
        }
      ]
    },
    {
      "cell_type": "code",
      "source": [
        "# Exercise - count the number of times a character appears in a string\n",
        "# 'd': 1\n",
        "# 'i': 1\n",
        "# 'o': 2\n",
        "# 'g': 1\n",
        "\n",
        "# Input from the user\n",
        "string = input(\"Please enter a word or sentence: \")\n",
        "# Initialize a dictionary to keep track of character counts\n",
        "char_count = {}\n",
        "\n",
        "# Loop through each character in the string\n",
        "for character in string:\n",
        "  # If the character is already in the dictionary, increment its count\n",
        "  if character in char_count:\n",
        "    char_count[character] += 1\n",
        "  # If the character is not in the dictionary, add it with a count of 1\n",
        "  else:\n",
        "    char_count[character] = 1\n",
        "\n",
        "# Print the character count results\n",
        "print(\"Character count:\")\n",
        "for char, count in char_count.items():\n",
        "  print(f\"{char}: {count}\")"
      ],
      "metadata": {
        "colab": {
          "base_uri": "https://localhost:8080/"
        },
        "id": "L2FJAhLoJ8-v",
        "outputId": "90bc37fa-abfb-4cb5-f800-480a629030b1"
      },
      "execution_count": null,
      "outputs": [
        {
          "output_type": "stream",
          "name": "stdout",
          "text": [
            "Please enter a word or sentence: diogo\n",
            "Character count\n",
            "d: 1\n",
            "i: 1\n",
            "o: 2\n",
            "g: 1\n"
          ]
        }
      ]
    },
    {
      "cell_type": "markdown",
      "source": [
        "# Challenge: Treasure Hunter"
      ],
      "metadata": {
        "id": "wAf3v3upP61s"
      }
    },
    {
      "cell_type": "code",
      "source": [
        "# Game data\n",
        "# location dictionary\n",
        "locations = {\n",
        "    'start': {\n",
        "        'description': \"You are at the starting point. There are two paths: left and right.\",\n",
        "        'options': {'left': 'forest', 'right': 'cave'}\n",
        "    },\n",
        "    'forest': {\n",
        "        'description': \"You are in a dense forest. There are two paths: forward and backward.\",\n",
        "        'options': {'forward': 'river', 'backward': 'start'}\n",
        "    },\n",
        "    'cave': {\n",
        "        'description': \"You are inside a dark cave. There are two paths: forward and backward.\",\n",
        "        'options': {'forward': 'treasure', 'backward': 'start'}\n",
        "    },\n",
        "    'river': {\n",
        "        'description': \"You are at the edge of a roaring river. There is no way forward.\",\n",
        "        'options': {'backward': 'forest'}\n",
        "    },\n",
        "    'treasure': {\n",
        "        'description': \"You've found the treasure! Congratulations!\",\n",
        "        'options': {}\n",
        "    }\n",
        "}"
      ],
      "metadata": {
        "id": "hfdKRzViP__b"
      },
      "execution_count": null,
      "outputs": []
    },
    {
      "cell_type": "code",
      "source": [
        "# Game\n",
        "current_location = 'start' # Starting point of the game\n",
        "\n",
        "while True:\n",
        "  # Print the description of the current location\n",
        "  print(locations[current_location]['description'])\n",
        "\n",
        "  # Provide the user with options based on the current location\n",
        "  options = locations[current_location]['options']\n",
        "  print(\"Options:\")\n",
        "  for option in options:\n",
        "    print(f\" - {option}\")\n",
        "\n",
        "  # Get the user's choice of option\n",
        "  user_choice = input(\"Choose an option: \").lower()\n",
        "\n",
        "  # Validate the user's choice to ensure it's a valid option\n",
        "  while user_choice not in options:\n",
        "    user_choice = input(\"Invalid option. Choose again: \").lower()\n",
        "\n",
        "  # Update the current location based on the user's choice\n",
        "  current_location = options[user_choice]\n",
        "\n",
        "  # Check if the user has reached the end of the game\n",
        "  if current_location == 'treasure':\n",
        "    break\n",
        "\n",
        "# Print the final message when the game is over\n",
        "print(\"Game over! You found the treasure\")"
      ],
      "metadata": {
        "colab": {
          "base_uri": "https://localhost:8080/"
        },
        "id": "6oa_4c0_QK3w",
        "outputId": "6cefc1a5-7015-4dc3-ac6d-c4c7a3f4fdaf"
      },
      "execution_count": null,
      "outputs": [
        {
          "output_type": "stream",
          "name": "stdout",
          "text": [
            "You are at the starting point. There are two paths: left and right.\n",
            "Options:\n",
            " - left\n",
            " - right\n",
            "Choose an option: right\n",
            "You are inside a dark cave. There are two paths: forward and backward.\n",
            "Options:\n",
            " - forward\n",
            " - backward\n",
            "Choose an option: forward\n",
            "Game over! You found the treasure\n"
          ]
        }
      ]
    },
    {
      "cell_type": "markdown",
      "source": [
        "# Functions"
      ],
      "metadata": {
        "id": "AKUTaF6psDGD"
      }
    },
    {
      "cell_type": "code",
      "source": [
        "# Create a function that greets people\n",
        "def greet():\n",
        "  print(\"Howdy, Partner!\")"
      ],
      "metadata": {
        "id": "klmfNTlasEyq"
      },
      "execution_count": null,
      "outputs": []
    },
    {
      "cell_type": "code",
      "source": [
        "# Call the function\n",
        "greet()"
      ],
      "metadata": {
        "colab": {
          "base_uri": "https://localhost:8080/"
        },
        "id": "DPSx5JkLsONi",
        "outputId": "45a7430e-277b-450f-c1c0-660ac9f4f992"
      },
      "execution_count": null,
      "outputs": [
        {
          "output_type": "stream",
          "name": "stdout",
          "text": [
            "Howdy, Partner!\n"
          ]
        }
      ]
    },
    {
      "cell_type": "code",
      "source": [
        "# Function with one input\n",
        "def food(food1):\n",
        "  print(f\"{food1} is delicious\")"
      ],
      "metadata": {
        "id": "53BcePWssTCy"
      },
      "execution_count": null,
      "outputs": []
    },
    {
      "cell_type": "code",
      "source": [
        "# Calling the function with 1 input\n",
        "food(\"tacos\")"
      ],
      "metadata": {
        "colab": {
          "base_uri": "https://localhost:8080/"
        },
        "id": "ZTvs8dkzsdxt",
        "outputId": "ed0a3893-6f6b-4968-8e76-d56c4bb247af"
      },
      "execution_count": null,
      "outputs": [
        {
          "output_type": "stream",
          "name": "stdout",
          "text": [
            "tacos is delicious\n"
          ]
        }
      ]
    },
    {
      "cell_type": "code",
      "source": [
        "# Functions with 2 or more inputs\n",
        "def mix_foods(food1, food2):\n",
        "  print(f\"Mixing {food1} and {food2} is delicious\")"
      ],
      "metadata": {
        "id": "3TaqsIINswiI"
      },
      "execution_count": null,
      "outputs": []
    },
    {
      "cell_type": "code",
      "source": [
        "# Call the function\n",
        "mix_foods(\"pizza\", \"tacos\")"
      ],
      "metadata": {
        "colab": {
          "base_uri": "https://localhost:8080/"
        },
        "id": "JD-j22lQs_Bx",
        "outputId": "92dd0574-b863-4c93-ab05-2f1fc865c1c3"
      },
      "execution_count": null,
      "outputs": [
        {
          "output_type": "stream",
          "name": "stdout",
          "text": [
            "Mixing pizza and tacos is delicious\n"
          ]
        }
      ]
    },
    {
      "cell_type": "code",
      "source": [
        "# Use a function and store results\n",
        "def mix_foods2(food1, food2):\n",
        "  return f\"Mixing {food1} and {food2} is delicious\""
      ],
      "metadata": {
        "id": "lfjmpfyBtF4e"
      },
      "execution_count": null,
      "outputs": []
    },
    {
      "cell_type": "code",
      "source": [
        "# Call the function, and store it in a variable\n",
        "party_dish = mix_foods2(\"pizza\", \"tacos\")\n",
        "print(party_dish)"
      ],
      "metadata": {
        "colab": {
          "base_uri": "https://localhost:8080/"
        },
        "id": "_uF8VEIMtPOI",
        "outputId": "43f98d07-2471-458a-867f-2c913de9d629"
      },
      "execution_count": null,
      "outputs": [
        {
          "output_type": "stream",
          "name": "stdout",
          "text": [
            "Mixing pizza and tacos is delicious\n"
          ]
        }
      ]
    },
    {
      "cell_type": "code",
      "source": [
        "# Exercise: function that adds numbers\n",
        "def add(a, b):\n",
        "  return a + b\n",
        "\n",
        "# Call the function, and store it in a variable\n",
        "result = add(4,6)\n",
        "print(result)"
      ],
      "metadata": {
        "colab": {
          "base_uri": "https://localhost:8080/"
        },
        "id": "sGBwzGDcuh0v",
        "outputId": "7ffacaa5-5b67-4d5f-fbfe-141e91f9d5eb"
      },
      "execution_count": null,
      "outputs": [
        {
          "output_type": "stream",
          "name": "stdout",
          "text": [
            "10\n"
          ]
        }
      ]
    },
    {
      "cell_type": "code",
      "source": [
        "# Exercise: count the number of vowels in a word\n",
        "# Ninja -> 2\n",
        "def count_vowels(word):\n",
        "  # Convert the input word to lowercase for uniformity\n",
        "  word = word.lower()\n",
        "  # Define the set of vowels\n",
        "  vowels = \"aeiou\"\n",
        "  # Initialize a counter for the vowels\n",
        "  count = 0\n",
        "\n",
        "  # Iterate through each character in the word, and check if it's a vowel or not\n",
        "  for char in word:\n",
        "    if char in vowels:\n",
        "      count += 1\n",
        "\n",
        "  # Return the count of vowels\n",
        "  return count\n",
        "\n",
        "# Call the function\n",
        "print(count_vowels(\"Hero\"))"
      ],
      "metadata": {
        "colab": {
          "base_uri": "https://localhost:8080/"
        },
        "id": "lgpU1pCrwSGp",
        "outputId": "71c07d86-feb8-4c37-8c93-345eebaa6d3e"
      },
      "execution_count": null,
      "outputs": [
        {
          "output_type": "stream",
          "name": "stdout",
          "text": [
            "2\n"
          ]
        }
      ]
    },
    {
      "cell_type": "code",
      "source": [
        "# Exercise: create a function that transforms Fahrenheit to celsius\n",
        "def convert_to_celsius(fahrenheit):\n",
        "  celsius = round((fahrenheit - 32) * 5 / 9,0)\n",
        "  return celsius\n",
        "\n",
        "# Call the function, store the result in a variable, and print it\n",
        "celsius_temp = convert_to_celsius(200)\n",
        "print(celsius_temp)"
      ],
      "metadata": {
        "colab": {
          "base_uri": "https://localhost:8080/"
        },
        "id": "xsg7tiIQ1AfP",
        "outputId": "0834ea3e-1282-4013-c37d-7fa19b49aaaf"
      },
      "execution_count": null,
      "outputs": [
        {
          "output_type": "stream",
          "name": "stdout",
          "text": [
            "93.0\n"
          ]
        }
      ]
    },
    {
      "cell_type": "markdown",
      "source": [
        "# Challenge : Recipe Converter"
      ],
      "metadata": {
        "id": "-rIkYcDQ4MSF"
      }
    },
    {
      "cell_type": "code",
      "source": [
        "# Ingredient list\n",
        "ingredients = [\n",
        "    {'name': 'flour', 'quantity': 200, 'unit': 'g'},\n",
        "    {'name': 'sugar', 'quantity': 100, 'unit': 'g'},\n",
        "    {'name': 'butter', 'quantity': 150, 'unit': 'g'},\n",
        "    {'name': 'eggs', 'quantity': 2, 'unit': 'pcs'},\n",
        "    {'name': 'vanilla extract', 'quantity': 5, 'unit': 'ml'}\n",
        "]\n",
        "\n",
        "# Conversion table\n",
        "conversion_table = {\n",
        "    'g': {'oz': 0.035274, 'cups': 0.00422675, 'tbsp': 0.067628, 'tsp': 0.202884},\n",
        "    'oz': {'g': 28.3495, 'cups': 0.119826, 'tbsp': 1.91722, 'tsp': 5.75167},\n",
        "    'cups': {'g': 236.588, 'oz': 8.3454, 'tbsp': 16, 'tsp': 48},\n",
        "    'tbsp': {'g': 14.7868, 'oz': 0.521594, 'cups': 0.0625, 'tsp': 3},\n",
        "    'tsp': {'g': 4.92892, 'oz': 0.173473, 'cups': 0.0208333, 'tbsp': 0.333333}\n",
        "}"
      ],
      "metadata": {
        "id": "Q8aVTQxs4CQB"
      },
      "execution_count": null,
      "outputs": []
    },
    {
      "cell_type": "code",
      "source": [
        "# Defining a function that converts units\n",
        "def convert_units(quantity, from_unit, to_unit):\n",
        "  # Check if the source and destination units are the same\n",
        "  if from_unit == to_unit:\n",
        "    conversion_factor = 1\n",
        "  else:\n",
        "    conversion_factor = conversion_table[from_unit][to_unit]\n",
        "\n",
        "  # Return the converted quantity\n",
        "  return quantity * conversion_factor"
      ],
      "metadata": {
        "id": "SkZ2lqIs4RER"
      },
      "execution_count": null,
      "outputs": []
    },
    {
      "cell_type": "code",
      "source": [
        "# Build function to convert recipes\n",
        "\n",
        "def recipe_converter(ingredients, recipe_factor, desired_units):\n",
        "  # List to hold the converted recipe ingredients\n",
        "  converted_recipe = []\n",
        "\n",
        "  # Iterate over each ingredient in the original recipe\n",
        "  for i in range(len(ingredients)):\n",
        "    # Get the ingredient details\n",
        "    ingredient = ingredients[i]\n",
        "    original_quantity = ingredient['quantity']\n",
        "    original_unit = ingredient['unit']\n",
        "    desired_unit = desired_units[i]\n",
        "\n",
        "    # Scale the original quantity by the recipe factor\n",
        "    scaled_quantity = original_quantity * recipe_factor\n",
        "\n",
        "    # Convert the scaled quantity to the desired unit\n",
        "    converted_quantity = convert_units(scaled_quantity,\n",
        "                                      original_unit,\n",
        "                                      desired_unit)\n",
        "\n",
        "    # Store the converted ingredient details\n",
        "    converted_ingredients = {'name': ingredient['name'],\n",
        "                            'quantity': converted_quantity,\n",
        "                            'unit': desired_unit}\n",
        "    converted_recipe.append(converted_ingredients)\n",
        "\n",
        "  return converted_recipe"
      ],
      "metadata": {
        "id": "DLv1qJ_e5rUa"
      },
      "execution_count": null,
      "outputs": []
    },
    {
      "cell_type": "code",
      "source": [
        "# recipe_factor for scaling the quantities\n",
        "recipe_factor = 3\n",
        "# Desired units for the converted recipe\n",
        "desired_units = ['cups', 'oz', 'tsp', 'pcs', 'ml']\n",
        "\n",
        "# Apply the recipe_converter function to get the converted recipe\n",
        "recipe_converted = recipe_converter(ingredients,\n",
        "                                    recipe_factor,\n",
        "                                    desired_units)\n",
        "\n",
        "# Print the original recipe\n",
        "print(\"Original Recipe\")\n",
        "for i in ingredients:\n",
        "  print(i)\n",
        "\n",
        "# Print the converted recipe\n",
        "print(\"Converted Recipe\")\n",
        "for i in recipe_converted:\n",
        "  print(i)"
      ],
      "metadata": {
        "colab": {
          "base_uri": "https://localhost:8080/"
        },
        "id": "BPoRYYxeO0MW",
        "outputId": "98032c59-aa55-4225-b2f5-940be4b2e47a"
      },
      "execution_count": null,
      "outputs": [
        {
          "output_type": "stream",
          "name": "stdout",
          "text": [
            "Original Recipe\n",
            "{'name': 'flour', 'quantity': 200, 'unit': 'g'}\n",
            "{'name': 'sugar', 'quantity': 100, 'unit': 'g'}\n",
            "{'name': 'butter', 'quantity': 150, 'unit': 'g'}\n",
            "{'name': 'eggs', 'quantity': 2, 'unit': 'pcs'}\n",
            "{'name': 'vanilla extract', 'quantity': 5, 'unit': 'ml'}\n",
            "Converted Recipe\n",
            "{'name': 'flour', 'quantity': 2.53605, 'unit': 'cups'}\n",
            "{'name': 'sugar', 'quantity': 10.5822, 'unit': 'oz'}\n",
            "{'name': 'butter', 'quantity': 91.29780000000001, 'unit': 'tsp'}\n",
            "{'name': 'eggs', 'quantity': 6, 'unit': 'pcs'}\n",
            "{'name': 'vanilla extract', 'quantity': 15, 'unit': 'ml'}\n"
          ]
        }
      ]
    }
  ]
}