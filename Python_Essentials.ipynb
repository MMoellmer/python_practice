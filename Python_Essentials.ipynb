{
  "nbformat": 4,
  "nbformat_minor": 0,
  "metadata": {
    "colab": {
      "provenance": []
    },
    "kernelspec": {
      "name": "python3",
      "display_name": "Python 3"
    },
    "language_info": {
      "name": "python"
    }
  },
  "cells": [
    {
      "cell_type": "markdown",
      "source": [
        "# Print Function\n"
      ],
      "metadata": {
        "id": "6YQc7MSkwkjV"
      }
    },
    {
      "cell_type": "code",
      "execution_count": null,
      "metadata": {
        "colab": {
          "base_uri": "https://localhost:8080/"
        },
        "id": "qyyAXmJSwOjn",
        "outputId": "243ccbe4-ec6e-4cfb-bdba-5140ab5a9d44"
      },
      "outputs": [
        {
          "output_type": "stream",
          "name": "stdout",
          "text": [
            "hello, world\n"
          ]
        }
      ],
      "source": [
        "#simple print example\n",
        "print(\"hello, world\")"
      ]
    },
    {
      "cell_type": "code",
      "source": [
        "#Without print function\n",
        "\"Hello\"\n",
        "\"world\""
      ],
      "metadata": {
        "colab": {
          "base_uri": "https://localhost:8080/",
          "height": 36
        },
        "id": "KPTAqt-WxTTw",
        "outputId": "f8b357f4-85b9-4335-c8e0-c3ae3e1dc30d"
      },
      "execution_count": null,
      "outputs": [
        {
          "output_type": "execute_result",
          "data": {
            "text/plain": [
              "'world'"
            ],
            "application/vnd.google.colaboratory.intrinsic+json": {
              "type": "string"
            }
          },
          "metadata": {},
          "execution_count": 7
        }
      ]
    },
    {
      "cell_type": "code",
      "source": [
        "#print with inputs\n",
        "name = \"marcus\"\n",
        "age = 26\n",
        "print(\"my name is\", name, \"and I am\", age, \"years old\")"
      ],
      "metadata": {
        "colab": {
          "base_uri": "https://localhost:8080/"
        },
        "id": "YCHCaqxNxu-q",
        "outputId": "99d2ce53-d2e0-404a-f339-9de5dbf84f58"
      },
      "execution_count": null,
      "outputs": [
        {
          "output_type": "stream",
          "name": "stdout",
          "text": [
            "my name is marcus and I am 26 years old\n"
          ]
        }
      ]
    },
    {
      "cell_type": "code",
      "source": [
        "#string concatenation (+)\n",
        "print(\"my name is \" + name + \" and I am \" + str(age) + \" years old\")\n"
      ],
      "metadata": {
        "colab": {
          "base_uri": "https://localhost:8080/"
        },
        "id": "XxzALA0lyAbL",
        "outputId": "687176c3-dccd-4814-e01f-630561cb7980"
      },
      "execution_count": null,
      "outputs": [
        {
          "output_type": "stream",
          "name": "stdout",
          "text": [
            "my name is marcus and I am 26 years old\n"
          ]
        }
      ]
    },
    {
      "cell_type": "code",
      "source": [
        "#F-string\n",
        "print(f\"my name is {name} and I am {age} years old\")"
      ],
      "metadata": {
        "colab": {
          "base_uri": "https://localhost:8080/"
        },
        "id": "xAn1uLtgyRNp",
        "outputId": "09312a70-2981-4d8a-f4cc-c4d0504c87b8"
      },
      "execution_count": null,
      "outputs": [
        {
          "output_type": "stream",
          "name": "stdout",
          "text": [
            "my name is marcus and I am 26 years old\n"
          ]
        }
      ]
    },
    {
      "cell_type": "markdown",
      "source": [
        "# Input Function\n"
      ],
      "metadata": {
        "id": "e9jFrv911yxG"
      }
    },
    {
      "cell_type": "code",
      "source": [
        "#display a custom prompt to guide users by passing a string argument to the input function\n",
        "name = input(\"please enter your name: \")"
      ],
      "metadata": {
        "colab": {
          "base_uri": "https://localhost:8080/"
        },
        "id": "LNOFF0uby093",
        "outputId": "17ff732b-9fa0-4f28-8d3f-ea8694d6d813"
      },
      "execution_count": null,
      "outputs": [
        {
          "name": "stdout",
          "output_type": "stream",
          "text": [
            "please enter your name: Marcus\n"
          ]
        }
      ]
    },
    {
      "cell_type": "code",
      "source": [
        "#asking for age\n",
        "age = int(input(\"please enter your age: \"))"
      ],
      "metadata": {
        "colab": {
          "base_uri": "https://localhost:8080/"
        },
        "id": "nLjcg5zg0pfH",
        "outputId": "bcbd7e3e-c028-4a22-a704-846283e26bff"
      },
      "execution_count": null,
      "outputs": [
        {
          "name": "stdout",
          "output_type": "stream",
          "text": [
            "please enter your age: 2\n"
          ]
        }
      ]
    },
    {
      "cell_type": "code",
      "source": [
        "#personalized greeting\n",
        "name = input(\"please enter your name: \")\n",
        "age = int(input(\"please enter your age: \"))\n",
        "print (f\"Hello, {name}! You are {age} years old.\")"
      ],
      "metadata": {
        "colab": {
          "base_uri": "https://localhost:8080/"
        },
        "id": "Q0-dW2Io03O8",
        "outputId": "dc9f0496-326c-4d85-8fb9-cb01dd89a063"
      },
      "execution_count": null,
      "outputs": [
        {
          "output_type": "stream",
          "name": "stdout",
          "text": [
            "please enter your name: Marcus\n",
            "please enter your age: 26\n",
            "Hello, Marcus! You are 26 years old.\n"
          ]
        }
      ]
    },
    {
      "cell_type": "code",
      "source": [
        "print(name, age)\n"
      ],
      "metadata": {
        "colab": {
          "base_uri": "https://localhost:8080/"
        },
        "id": "o4lsMc7F1-XK",
        "outputId": "b9a72489-5eda-4b66-f9aa-0e37fb84aae2"
      },
      "execution_count": null,
      "outputs": [
        {
          "output_type": "stream",
          "name": "stdout",
          "text": [
            "Marcus 26\n"
          ]
        }
      ]
    },
    {
      "cell_type": "markdown",
      "source": [
        "**# Name a hero exercise**"
      ],
      "metadata": {
        "id": "coDfsu0l4F4Y"
      }
    },
    {
      "cell_type": "markdown",
      "source": [
        "# Name a Hero Exercise"
      ],
      "metadata": {
        "id": "SLBma3eU4UiD"
      }
    },
    {
      "cell_type": "code",
      "source": [
        "name = input(\"What is your name? \")\n",
        "age = int(input(\"What is your age? \"))\n",
        "adjetive = input(\"What is an adjetive that comes to mind? \")\n",
        "animal = input(\"What is your favorite animal? \")\n",
        "print (f\"{name} is now {adjetive} {animal}! He is {age}. Go and save the world!\")\n"
      ],
      "metadata": {
        "colab": {
          "base_uri": "https://localhost:8080/"
        },
        "id": "Avc_6Jek4akT",
        "outputId": "69d5de07-2faa-4a16-f77b-76d4cbe0c355"
      },
      "execution_count": null,
      "outputs": [
        {
          "output_type": "stream",
          "name": "stdout",
          "text": [
            "What is your name? Marcus\n",
            "What is your age? 26\n",
            "What is an adjetive that comes to mind? Unbiased\n",
            "What is your favorite animal? Eagle\n",
            "Marcus is now Unbiased Eagle! He is 26. Go and save the world!\n"
          ]
        }
      ]
    },
    {
      "cell_type": "code",
      "source": [],
      "metadata": {
        "id": "wkBIdP-z4tzq"
      },
      "execution_count": null,
      "outputs": []
    },
    {
      "cell_type": "markdown",
      "source": [
        "# Variable Types in Python\n"
      ],
      "metadata": {
        "id": "NraESXN_7VF2"
      }
    },
    {
      "cell_type": "code",
      "source": [
        "# Checking Variable Type\n",
        "name = \"Marcus\"\n",
        "age = 26\n",
        "height = 1.83\n",
        "print(type(name))\n",
        "print(type(age))\n",
        "print(type(height))"
      ],
      "metadata": {
        "colab": {
          "base_uri": "https://localhost:8080/"
        },
        "id": "NcBBuMEh7ZR_",
        "outputId": "c1e1aeb4-050d-4e86-beef-7210f17e036e"
      },
      "execution_count": null,
      "outputs": [
        {
          "output_type": "stream",
          "name": "stdout",
          "text": [
            "<class 'str'>\n",
            "<class 'int'>\n",
            "<class 'float'>\n"
          ]
        }
      ]
    },
    {
      "cell_type": "code",
      "source": [
        "# Transfomr a float into an integer\n",
        "height = 1.83\n",
        "print(type(height))\n",
        "height = int(height)\n",
        "print(type(height))"
      ],
      "metadata": {
        "colab": {
          "base_uri": "https://localhost:8080/"
        },
        "id": "Q3wdyi7x7paF",
        "outputId": "0bdc900d-ef9d-4b17-f4d5-d0eb54120005"
      },
      "execution_count": null,
      "outputs": [
        {
          "output_type": "stream",
          "name": "stdout",
          "text": [
            "<class 'float'>\n",
            "<class 'int'>\n"
          ]
        }
      ]
    },
    {
      "cell_type": "code",
      "source": [
        "# Transform integer into a float\n",
        "a = 1\n",
        "b = float(a)\n",
        "print(a)\n",
        "print(b)"
      ],
      "metadata": {
        "colab": {
          "base_uri": "https://localhost:8080/"
        },
        "id": "dDEF-C6j7y61",
        "outputId": "42d1823e-acbe-48dc-8c38-ff184a014350"
      },
      "execution_count": null,
      "outputs": [
        {
          "output_type": "stream",
          "name": "stdout",
          "text": [
            "1\n",
            "1.0\n"
          ]
        }
      ]
    },
    {
      "cell_type": "code",
      "source": [
        "# Transfomr a sting into a float/integer\n",
        "height = float(input(\"Please insert your height: \"))\n",
        "type(height)"
      ],
      "metadata": {
        "colab": {
          "base_uri": "https://localhost:8080/"
        },
        "id": "8UEGrrf-758R",
        "outputId": "49c3b0c9-e9ef-45a0-b340-433c553e9202"
      },
      "execution_count": null,
      "outputs": [
        {
          "name": "stdout",
          "output_type": "stream",
          "text": [
            "Please insert your height: 1.83\n"
          ]
        },
        {
          "output_type": "execute_result",
          "data": {
            "text/plain": [
              "float"
            ]
          },
          "metadata": {},
          "execution_count": 37
        }
      ]
    },
    {
      "cell_type": "code",
      "source": [
        "# Boolean\n",
        "c = True\n",
        "type(c)"
      ],
      "metadata": {
        "colab": {
          "base_uri": "https://localhost:8080/"
        },
        "id": "Cfn_ZgRB8SVV",
        "outputId": "72331662-7afc-4722-f51e-99fb236e2748"
      },
      "execution_count": null,
      "outputs": [
        {
          "output_type": "execute_result",
          "data": {
            "text/plain": [
              "bool"
            ]
          },
          "metadata": {},
          "execution_count": 38
        }
      ]
    },
    {
      "cell_type": "markdown",
      "source": [
        "# Python Arithmetic Operators"
      ],
      "metadata": {
        "id": "-QWhNnb39XU1"
      }
    },
    {
      "cell_type": "code",
      "source": [
        "# Declaring Variables\n",
        "X = 5\n",
        "y = 3"
      ],
      "metadata": {
        "id": "U-z_thlH9cg6"
      },
      "execution_count": null,
      "outputs": []
    },
    {
      "cell_type": "code",
      "source": [
        "# Addition\n",
        "x = 5\n",
        "y = 3\n",
        "result = x + y\n",
        "print(result)"
      ],
      "metadata": {
        "colab": {
          "base_uri": "https://localhost:8080/"
        },
        "id": "KswMyUXMIwmG",
        "outputId": "b161374f-76f2-4398-ef0d-c6a45d6b7995"
      },
      "execution_count": null,
      "outputs": [
        {
          "output_type": "stream",
          "name": "stdout",
          "text": [
            "8\n"
          ]
        }
      ]
    },
    {
      "cell_type": "code",
      "source": [
        "# Subtraction\n",
        "X = 5\n",
        "y = 3\n",
        "x - y"
      ],
      "metadata": {
        "colab": {
          "base_uri": "https://localhost:8080/"
        },
        "id": "C816odGrI0rp",
        "outputId": "a9601418-13e7-4474-d764-b1d6d6f610f4"
      },
      "execution_count": null,
      "outputs": [
        {
          "output_type": "execute_result",
          "data": {
            "text/plain": [
              "2"
            ]
          },
          "metadata": {},
          "execution_count": 53
        }
      ]
    },
    {
      "cell_type": "code",
      "source": [
        "# Multiplication\n",
        "X = 5\n",
        "y = 3\n",
        "x*y"
      ],
      "metadata": {
        "colab": {
          "base_uri": "https://localhost:8080/"
        },
        "id": "MA_gxrmNJMSh",
        "outputId": "2552eea2-428a-42e7-9f3c-9fe2d9dc0023"
      },
      "execution_count": null,
      "outputs": [
        {
          "output_type": "execute_result",
          "data": {
            "text/plain": [
              "15"
            ]
          },
          "metadata": {},
          "execution_count": 54
        }
      ]
    },
    {
      "cell_type": "code",
      "source": [
        "# Division\n",
        "x/y"
      ],
      "metadata": {
        "colab": {
          "base_uri": "https://localhost:8080/"
        },
        "id": "Gp5DQMgKJSd4",
        "outputId": "e2d582cf-e0b8-428b-aec9-589f0097021f"
      },
      "execution_count": null,
      "outputs": [
        {
          "output_type": "execute_result",
          "data": {
            "text/plain": [
              "1.6666666666666667"
            ]
          },
          "metadata": {},
          "execution_count": 55
        }
      ]
    },
    {
      "cell_type": "code",
      "source": [
        "# Modulus\n",
        "x % y"
      ],
      "metadata": {
        "colab": {
          "base_uri": "https://localhost:8080/"
        },
        "id": "fmXy7TokJTVK",
        "outputId": "83ba7827-672b-4f7c-99ba-3b6a1f7fb91b"
      },
      "execution_count": null,
      "outputs": [
        {
          "output_type": "execute_result",
          "data": {
            "text/plain": [
              "2"
            ]
          },
          "metadata": {},
          "execution_count": 56
        }
      ]
    },
    {
      "cell_type": "code",
      "source": [
        "# Exponential\n",
        "x**y"
      ],
      "metadata": {
        "colab": {
          "base_uri": "https://localhost:8080/"
        },
        "id": "PG8DoFAnJZUg",
        "outputId": "446f8383-9a17-4d0c-9120-0030f62be61d"
      },
      "execution_count": null,
      "outputs": [
        {
          "output_type": "execute_result",
          "data": {
            "text/plain": [
              "125"
            ]
          },
          "metadata": {},
          "execution_count": 57
        }
      ]
    },
    {
      "cell_type": "code",
      "source": [
        "# Floor Division\n",
        "x // y"
      ],
      "metadata": {
        "colab": {
          "base_uri": "https://localhost:8080/"
        },
        "id": "SP1rfCCQJcZz",
        "outputId": "8f3a1d68-d94e-4457-e148-e00d0c1d8421"
      },
      "execution_count": null,
      "outputs": [
        {
          "output_type": "execute_result",
          "data": {
            "text/plain": [
              "1"
            ]
          },
          "metadata": {},
          "execution_count": 58
        }
      ]
    },
    {
      "cell_type": "code",
      "source": [
        "# Compound Assignment Operators ( +=, -=, *=, /=, %=, *=. //= )\n",
        "x += 3 # equivalent to x = x + 3\n",
        "print (x)"
      ],
      "metadata": {
        "colab": {
          "base_uri": "https://localhost:8080/"
        },
        "id": "O-O6RGLTJfiP",
        "outputId": "526b6b47-dce4-42b1-f7f3-a55c5211a859"
      },
      "execution_count": null,
      "outputs": [
        {
          "output_type": "stream",
          "name": "stdout",
          "text": [
            "8\n"
          ]
        }
      ]
    },
    {
      "cell_type": "code",
      "source": [
        "# Less techi way of doing it\n",
        "x = x + 3\n",
        "print (x)"
      ],
      "metadata": {
        "colab": {
          "base_uri": "https://localhost:8080/"
        },
        "id": "L39OhOjkJpAD",
        "outputId": "bd14918f-d6e8-4f11-eec3-c4f157d1844c"
      },
      "execution_count": null,
      "outputs": [
        {
          "output_type": "stream",
          "name": "stdout",
          "text": [
            "11\n"
          ]
        }
      ]
    },
    {
      "cell_type": "code",
      "source": [
        "# Floor Division Compound\n",
        "x //= 5\n",
        "print(x)"
      ],
      "metadata": {
        "colab": {
          "base_uri": "https://localhost:8080/"
        },
        "id": "FnlzdGRcJtr0",
        "outputId": "1eef2d06-57ed-40de-88da-33c402ae5c07"
      },
      "execution_count": null,
      "outputs": [
        {
          "output_type": "stream",
          "name": "stdout",
          "text": [
            "2\n"
          ]
        }
      ]
    },
    {
      "cell_type": "markdown",
      "source": [
        "# Python Comparison Operators"
      ],
      "metadata": {
        "id": "p63ojvkqLo8j"
      }
    },
    {
      "cell_type": "code",
      "source": [
        "# Declaring the variables\n",
        "x = 5\n",
        "y = 3"
      ],
      "metadata": {
        "id": "ARhEJQE7LtRd"
      },
      "execution_count": null,
      "outputs": []
    },
    {
      "cell_type": "code",
      "source": [
        "# Equal to (==)\n",
        "x == y"
      ],
      "metadata": {
        "colab": {
          "base_uri": "https://localhost:8080/"
        },
        "id": "K_6GUPR3SmMC",
        "outputId": "030bc692-60e8-4e34-8de8-d26a405d5a31"
      },
      "execution_count": null,
      "outputs": [
        {
          "output_type": "execute_result",
          "data": {
            "text/plain": [
              "False"
            ]
          },
          "metadata": {},
          "execution_count": 63
        }
      ]
    },
    {
      "cell_type": "code",
      "source": [
        "# Not equal\n",
        "x != y"
      ],
      "metadata": {
        "colab": {
          "base_uri": "https://localhost:8080/"
        },
        "id": "CHAmuAx7Splo",
        "outputId": "4e9b5b03-9283-4b1b-f8a1-7a78657aa4fb"
      },
      "execution_count": null,
      "outputs": [
        {
          "output_type": "execute_result",
          "data": {
            "text/plain": [
              "True"
            ]
          },
          "metadata": {},
          "execution_count": 64
        }
      ]
    },
    {
      "cell_type": "code",
      "source": [
        "# Greater than (>)\n",
        "x > y"
      ],
      "metadata": {
        "colab": {
          "base_uri": "https://localhost:8080/"
        },
        "id": "pIdT0jElStJl",
        "outputId": "fca41a4e-2972-47e8-932d-019014fa213e"
      },
      "execution_count": null,
      "outputs": [
        {
          "output_type": "execute_result",
          "data": {
            "text/plain": [
              "True"
            ]
          },
          "metadata": {},
          "execution_count": 65
        }
      ]
    },
    {
      "cell_type": "code",
      "source": [
        "# Less than\n",
        "x < y"
      ],
      "metadata": {
        "colab": {
          "base_uri": "https://localhost:8080/"
        },
        "id": "-mf45YmmSv6-",
        "outputId": "d94b389c-f4ee-448c-81cd-2bf4ad049090"
      },
      "execution_count": null,
      "outputs": [
        {
          "output_type": "execute_result",
          "data": {
            "text/plain": [
              "False"
            ]
          },
          "metadata": {},
          "execution_count": 66
        }
      ]
    },
    {
      "cell_type": "code",
      "source": [
        "# Greater than or equal to\n",
        "x >= y"
      ],
      "metadata": {
        "colab": {
          "base_uri": "https://localhost:8080/"
        },
        "id": "8yPkFa1RSzd6",
        "outputId": "b9c937db-beec-4e62-b763-c918d0b0872a"
      },
      "execution_count": null,
      "outputs": [
        {
          "output_type": "execute_result",
          "data": {
            "text/plain": [
              "True"
            ]
          },
          "metadata": {},
          "execution_count": 67
        }
      ]
    },
    {
      "cell_type": "code",
      "source": [
        "# Less than or equal to (<=)\n",
        "x = y"
      ],
      "metadata": {
        "id": "-yypZqmSS2oz"
      },
      "execution_count": null,
      "outputs": []
    },
    {
      "cell_type": "markdown",
      "source": [
        "# Split the Bill Exercise"
      ],
      "metadata": {
        "id": "y3S8OoSTS9aL"
      }
    },
    {
      "cell_type": "code",
      "source": [
        "# Step 1: Prompt the user for the total cost of the meal\n",
        "meal_cost = float(input(\"enter the total cost of the meal: \"))\n",
        "\n",
        "# Step 2: Prompt the user for the tip percentage\n",
        "tip_percentage = float(input(\"enter the tip percentage desired (e.g., 15 for 15%): \"))\n",
        "\n",
        "# Step 3: Prompt the user for the number of people at the table\n",
        "number_of_people = int(input(\"enter the number of people at the table: \"))\n",
        "\n",
        "# Step 4: Calculate the tip amount using the tip percentage and meal cost\n",
        "tip_amount = (tip_percentage / 100) * meal_cost\n",
        "\n",
        "# Step 5: Calculate the total cost of the meal, including the tip\n",
        "total_cost = meal_cost + tip_amount\n",
        "\n",
        "# Step 6: Calculate the average cost per person\n",
        "cost_per_person = total_cost / number_of_people\n",
        "\n",
        "# Step 7: Display everything to the users: tip amount, total cost, cost per person\n",
        "print(f\"Tip amount: ${tip_amount:.2f}\")\n",
        "print(f\"Total cost: ${total_cost:.2f}\")\n",
        "print(f\"Cost per person: ${cost_per_person:.2f}\")"
      ],
      "metadata": {
        "colab": {
          "base_uri": "https://localhost:8080/"
        },
        "id": "Spu072ziTCC3",
        "outputId": "b148dd6a-d21a-40e6-fe4d-3d7708cf8cbc"
      },
      "execution_count": null,
      "outputs": [
        {
          "output_type": "stream",
          "name": "stdout",
          "text": [
            "enter the total cost of the meal: 40\n",
            "enter the tip percentage desired (e.g., 15 for 15%): 10\n",
            "enter the number of people at the table: 2\n",
            "Tip amount: $4.00\n",
            "Total cost: $44.00\n",
            "Cost per person: $22.00\n"
          ]
        }
      ]
    },
    {
      "cell_type": "markdown",
      "source": [
        "# Python If/Else Conditions"
      ],
      "metadata": {
        "id": "QH3bNKO0iawp"
      }
    },
    {
      "cell_type": "code",
      "source": [
        "# If statement\n",
        "x = 10\n",
        "if x > 5:\n",
        "  print(\"x is greater than 5\")"
      ],
      "metadata": {
        "colab": {
          "base_uri": "https://localhost:8080/"
        },
        "id": "Q-nPKTzmieqE",
        "outputId": "31e46015-4515-4494-e9c1-640476189574"
      },
      "execution_count": null,
      "outputs": [
        {
          "output_type": "stream",
          "name": "stdout",
          "text": [
            "x is greater than 5\n"
          ]
        }
      ]
    },
    {
      "cell_type": "code",
      "source": [
        "# If + Elif statement\n",
        "x = 5\n",
        "if x > 5:\n",
        "  print(\"x is greater than 5\")\n",
        "elif x == 5:\n",
        "  print(\"x is equal to 5\")"
      ],
      "metadata": {
        "colab": {
          "base_uri": "https://localhost:8080/"
        },
        "id": "17seZyhCkQ5D",
        "outputId": "83f6a12e-5c9a-4c58-d7ee-b62a69c70032"
      },
      "execution_count": null,
      "outputs": [
        {
          "output_type": "stream",
          "name": "stdout",
          "text": [
            "x is equal to 5\n"
          ]
        }
      ]
    },
    {
      "cell_type": "code",
      "source": [
        "# If + Elif + Else Statement\n",
        "x = 10\n",
        "if x > 5:\n",
        "  print(\"x is greater than 5\")\n",
        "elif x == 5:\n",
        "  print(\"x is equal to 5\")\n",
        "else:\n",
        "  print(\"x is less than 5\")"
      ],
      "metadata": {
        "id": "Jle37cF_kmVy"
      },
      "execution_count": null,
      "outputs": []
    },
    {
      "cell_type": "markdown",
      "source": [
        "# Can you vote? Exercise"
      ],
      "metadata": {
        "id": "sEsUa073lghg"
      }
    },
    {
      "cell_type": "code",
      "source": [
        "# Create a if-sles condition that tells you whether thye can vote\n",
        "# The assessment must be based on their age\n",
        "\n",
        "age = int(input(\"please enter your age: \"))\n",
        "if age >= 18:\n",
        "  print(\"you can vote\")\n",
        "else:\n",
        "  print(\"you cannot vote\")"
      ],
      "metadata": {
        "id": "EOtMlaHDlL4W"
      },
      "execution_count": null,
      "outputs": []
    },
    {
      "cell_type": "markdown",
      "source": [
        "# Grading Papers Exercise"
      ],
      "metadata": {
        "id": "jZpyENSLl0sr"
      }
    },
    {
      "cell_type": "code",
      "source": [
        "# Take an input of a test score (0-100) and transform it into a grade (A-F)\n",
        "score = float(input(\"please enter your score (0-100): \"))\n",
        "\n",
        "if score >= 90:\n",
        "  grade = \"A\"\n",
        "elif score >= 80:\n",
        "  grade = \"B\"\n",
        "elif score >= 70:\n",
        "  grade = \"C\"\n",
        "elif score >= 60:\n",
        "  grade = \"D\"\n",
        "else:\n",
        "  grade = \"F\"\n",
        "\n",
        "print(f\"Your grade is: {grade}\")"
      ],
      "metadata": {
        "colab": {
          "base_uri": "https://localhost:8080/"
        },
        "id": "MRQ3s4x2l5xE",
        "outputId": "982c38fb-da6b-4fe2-ed2c-7687cdf2e5c9"
      },
      "execution_count": null,
      "outputs": [
        {
          "output_type": "stream",
          "name": "stdout",
          "text": [
            "please enter your score (0-100): 74\n",
            "Your grade is: C\n"
          ]
        }
      ]
    },
    {
      "cell_type": "markdown",
      "source": [
        "# Berghain Club Bouncer Exercise"
      ],
      "metadata": {
        "id": "r334ZDGTrX7c"
      }
    },
    {
      "cell_type": "code",
      "source": [
        "# Step 1: Get user's age and the current number of guests\n",
        "age = int(input(\"Please enter your age: \"))\n",
        "current_guests = int(input(\"Please enter the current number of guests: \"))\n",
        "\n",
        "# Step 2: Current entry rules\n",
        "min_age = 18\n",
        "max_age = 60\n",
        "max_guests = 200\n",
        "\n",
        "# Step 3: Use comparisons to determine if a guest can enter\n",
        "can_enter = (min_age <= age <= max_age) and (current_guests < max_guests)\n",
        "\n",
        "\n",
        "# Step 4: Communicate to the user if he/she can enter\n",
        "if can_enter:\n",
        "  print(\"Welcome to the club\")\n",
        "elif age < min_age or age > max_age:\n",
        "  print(\"you are not allowed to enter due to your age\")\n",
        "elif current_guests > max_guests:\n",
        "  print(\"the club is full and you cant enter\")\n",
        "else:\n",
        "  print(\"sorry, not tonight\")\n"
      ],
      "metadata": {
        "colab": {
          "base_uri": "https://localhost:8080/"
        },
        "id": "nQoiQiBRrc7z",
        "outputId": "d72aad65-47de-4f82-b06a-493918437550"
      },
      "execution_count": null,
      "outputs": [
        {
          "output_type": "stream",
          "name": "stdout",
          "text": [
            "Please enter your age: 25\n",
            "Please enter the current number of guests: 201\n",
            "the club is full and you cant enter\n"
          ]
        }
      ]
    },
    {
      "cell_type": "markdown",
      "source": [
        "# Monthly savings plan Exercise"
      ],
      "metadata": {
        "id": "jG_rc5bVt04a"
      }
    },
    {
      "cell_type": "code",
      "source": [
        "# The goal is to create a program that calculates the ideal monthly savings amount based on the user's age, target retirement age, desired savings, and annual interest rate\n",
        "\n",
        "age = int(input(\"Please enter your current age: \"))\n",
        "retirement_age = int(input(\"At what age would you like to retire? \"))\n",
        "desired_savings = int(input(\"How much money would you like to have at retirement? I.E. - 5000704     \"))\n",
        "annual_interest = int(input(\"What is your expected annual interest rate on your savings? \"))\n",
        "monthly_interest = ((1 + annual_interest / 100) ** (1/12)) -1\n",
        "\n",
        "\n",
        "years_till_retirement = retirement_age - age\n",
        "months_till_retirement = years_till_retirement * 12\n",
        "monthly_savings = (desired_savings*monthly_interest)/(((1 + monthly_interest) ** months_till_retirement) -1)\n",
        "\n",
        "\n",
        "print(f\"to make this much money in time for retirement, you will need to save {monthly_savings:.2f} per month\")\n"
      ],
      "metadata": {
        "colab": {
          "base_uri": "https://localhost:8080/"
        },
        "id": "Zud1-3YZt5X7",
        "outputId": "f0b377a6-7a9f-417f-a846-c3714c4e9890"
      },
      "execution_count": null,
      "outputs": [
        {
          "output_type": "stream",
          "name": "stdout",
          "text": [
            "Please enter your current age: 30\n",
            "At what age would you like to retire? 35\n",
            "How much money would you like to have at retirement? I.E. - 5000704     405000\n",
            "What is your expected annual interest rate on your savings? 4\n",
            "to make this much money in time for retirement, you will need to save 6119.76 per month\n"
          ]
        }
      ]
    }
  ]
}